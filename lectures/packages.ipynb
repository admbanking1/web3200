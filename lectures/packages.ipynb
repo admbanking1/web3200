{
  "cells": [
    {
      "cell_type": "markdown",
      "source": [
        "# Third-Party Libraries\n",
        "\n",
        "Python outside of the standard library"
      ],
      "metadata": {
        "slideshow": {
          "slide_type": "slide"
        }
      }
    },
    {
      "cell_type": "markdown",
      "source": [
        "# Finding Packages\n",
        "\n",
        "You can find installable packages on the Python Package Index (PyPi): https://pypi.org/"
      ],
      "metadata": {
        "slideshow": {
          "slide_type": "slide"
        }
      }
    },
    {
      "cell_type": "markdown",
      "source": [
        "This was recently (this week) revamped to make the interface user friendly."
      ],
      "metadata": {
        "slideshow": {
          "slide_type": "notes"
        }
      }
    },
    {
      "cell_type": "markdown",
      "source": [
        "# Installing Packages\n",
        "\n",
        "`pip` is the canonical package manager for Python which is included with Python distributions since 3.4.\n",
        "\n",
        "See https://docs.python.org/3/installing/ and https://pip.pypa.io/en/stable/quickstart/"
      ],
      "metadata": {
        "slideshow": {
          "slide_type": "slide"
        }
      }
    },
    {
      "cell_type": "markdown",
      "source": [
        "# Pip Examples\n",
        "\n",
        "```\n",
        "# Install the latest\n",
        "$ pip install numpy\n",
        "# Install a specific verion\n",
        "$ pip install numpy==1.14.2\n",
        "# Install a range of versions\n",
        "$ pip install \"numpy>=1.14,<1.15\"\n",
        "```"
      ],
      "metadata": {
        "slideshow": {
          "slide_type": "subslide"
        }
      }
    },
    {
      "cell_type": "markdown",
      "source": [
        "# More Pip Examples\n",
        "\n",
        "```bash\n",
        "# Show currently installed packages\n",
        "$ pip freeze\n",
        "# Show packages with newer versions\n",
        "$ pip list --outdated\n",
        "```"
      ],
      "metadata": {
        "slideshow": {
          "slide_type": "subslide"
        }
      }
    },
    {
      "cell_type": "markdown",
      "source": [
        "# Virtual Environments\n",
        "\n",
        "> The `venv` module provides support for creating lightweight “virtual environments” with their own site directories, optionally isolated from system site directories. Each virtual environment has its own Python binary (allowing creation of environments with various Python versions) and can have its own independent set of installed Python packages in its site directories.\n",
        "\n",
        "https://docs.python.org/3/library/venv.html"
      ],
      "metadata": {
        "slideshow": {
          "slide_type": "slide"
        }
      }
    },
    {
      "cell_type": "markdown",
      "source": [
        "```\n",
        "$ python3.6 -m venv <name>\n",
        "```\n"
      ],
      "metadata": {
        "slideshow": {
          "slide_type": "-"
        }
      }
    },
    {
      "cell_type": "markdown",
      "source": [
        "# Common Libraries\n",
        "\n",
        "- requests\n",
        "- Pillow\n",
        "- NumPy\n",
        "- SciPy\n",
        "- Pandas"
      ],
      "metadata": {
        "slideshow": {
          "slide_type": "slide"
        }
      }
    },
    {
      "cell_type": "markdown",
      "source": [
        "# `requests`\n",
        "\n",
        "Dubbed \"HTTP for Humans\", `requests` is wide of the most highly praised libraries for it's usefulness as an HTTP client library and it's clean interface. It provides a simple interface for advanced HTTP requests compared to the built-in `urllib`."
      ],
      "metadata": {
        "slideshow": {
          "slide_type": "slide"
        }
      }
    },
    {
      "cell_type": "code",
      "source": [
        "# %load ../code/newgithub.py\n",
        "import requests\n",
        "\n",
        "search_url = 'https://api.github.com/search/repositories'\n",
        "params = {\n",
        "    'q': 'language:python',\n",
        "    'sort': 'stars',\n",
        "    'order': 'desc',\n",
        "    'per_page': 3,\n",
        "}\n",
        "try:\n",
        "    response = requests.get(search_url, params=params, timeout=10)\n",
        "    response.raise_for_status()\n",
        "except requests.exceptions.HTTPError as e:\n",
        "    print('HTTPError getting Github data: %s' % e)\n",
        "except requests.exceptions.ConnectionError as e:\n",
        "    print('ConnectionError getting Gitub data: %s' % e)\n",
        "else:\n",
        "    data = response.json()\n",
        "    for repository in data['items']:\n",
        "        print('{full_name}: \\u2605 {stargazers_count}'.format(**repository))\n"
      ],
      "outputs": [
        {
          "output_type": "stream",
          "name": "stdout",
          "text": [
            "vinta/awesome-python: ★ 48628\n",
            "rg3/youtube-dl: ★ 36058\n",
            "toddmotto/public-apis: ★ 35695\n"
          ]
        }
      ],
      "execution_count": 1,
      "metadata": {
        "slideshow": {
          "slide_type": "slide"
        }
      }
    },
    {
      "cell_type": "markdown",
      "source": [
        "# `Pillow`\n",
        "\n",
        "`Pillow` is the most popular image manipulation library for Python."
      ],
      "metadata": {
        "slideshow": {
          "slide_type": "slide"
        }
      }
    },
    {
      "cell_type": "code",
      "source": [
        "# %load ../code/mandel.py\n",
        "\"\"\"\n",
        "Mandelbrot fractal using PIL (Python)\n",
        "\n",
        "http://code.activestate.com/recipes/577111-mandelbrot-fractal-using-pil/\n",
        "\"\"\"\n",
        "\n",
        "from PIL import Image\n",
        "# drawing area (xa < xb and ya < yb)\n",
        "xa, xb, ya, yb = -2.0, 1.0, -1.5, 1.5\n",
        "maxIt = 256  # iterations\n",
        "# image size\n",
        "imgx, imgy = 512, 512\n",
        "image = Image.new(\"RGB\", (imgx, imgy))\n",
        "\n",
        "for y in range(imgy):\n",
        "    cy = y * (yb - ya) / (imgy - 1) + ya\n",
        "    for x in range(imgx):\n",
        "        cx = x * (xb - xa) / (imgx - 1) + xa\n",
        "        c = complex(cx, cy)\n",
        "        z = 0\n",
        "        for i in range(maxIt):\n",
        "            if abs(z) > 2.0:\n",
        "                break\n",
        "            z = z * z + c\n",
        "        r = i % 4 * 64\n",
        "        g = i % 8 * 32\n",
        "        b = i % 16 * 16\n",
        "        image.putpixel((x, y), b * 65536 + g * 256 + r)\n",
        "\n",
        "image.save(\"mandel.png\", \"PNG\")\n"
      ],
      "outputs": [],
      "execution_count": 2,
      "metadata": {}
    },
    {
      "cell_type": "markdown",
      "source": [
        "![](mandel.png)"
      ],
      "metadata": {
        "slideshow": {
          "slide_type": "slide"
        }
      }
    },
    {
      "cell_type": "markdown",
      "source": [
        "# `NumPy`/`SciPy`\n",
        "\n",
        "`NumPy` is a package for handling array based data. It adds vector and matrix operations on top of standard Python lists.\n",
        "\n",
        "`SciPy` is built on top of `NumPy`. It provides scientific computational tools for statistics, optimization, numerical integration, linear algebra, Fourier transforms, signal processing, image processing, ODE solving, and more."
      ],
      "metadata": {
        "slideshow": {
          "slide_type": "slide"
        }
      }
    },
    {
      "cell_type": "markdown",
      "source": [
        "# `NumPy` For Matlab Users\n",
        "\n",
        "If you use Matlab then I would recommend reading this page on comparing `NumPy` to Matlab:\n",
        "http://www.scipy.org/NumPy_for_Matlab_Users\n"
      ],
      "metadata": {
        "slideshow": {
          "slide_type": "slide"
        }
      }
    },
    {
      "cell_type": "markdown",
      "source": [
        "# Creating NumPy Arrays\n",
        "\n",
        "`ndarray` is the basic array type provided by NumPy. There a number of ways of creating them."
      ],
      "metadata": {
        "slideshow": {
          "slide_type": "slide"
        }
      }
    },
    {
      "cell_type": "code",
      "source": [
        "import numpy\n",
        "\n",
        "a = numpy.array([1, 2, 3]) # 1-dimensional\n",
        "b = numpy.array([[1, 2, 3], [4, 5, 6]]) # 2-dimensional\n",
        "zero = numpy.zeros((3, 3))\n",
        "one = numpy.ones((2, 3, 4))\n",
        "even = numpy.arange(2, 20, 2)\n",
        "unit = numpy.linspace(0, 1, 10)"
      ],
      "outputs": [],
      "execution_count": 3,
      "metadata": {}
    },
    {
      "cell_type": "markdown",
      "source": [
        "# Using NumPy Arrays\n",
        "\n",
        "Arithmetic operators on arrays apply elementwise and create a new array with the result."
      ],
      "metadata": {
        "slideshow": {
          "slide_type": "slide"
        }
      }
    },
    {
      "cell_type": "code",
      "source": [
        "x = numpy.arange(4)\n",
        "y = numpy.arange(4)\n",
        "x + y"
      ],
      "outputs": [
        {
          "output_type": "execute_result",
          "execution_count": 4,
          "data": {
            "text/plain": "array([0, 2, 4, 6])"
          },
          "metadata": {}
        }
      ],
      "execution_count": 4,
      "metadata": {}
    },
    {
      "cell_type": "code",
      "source": [
        "x * 2"
      ],
      "outputs": [
        {
          "output_type": "execute_result",
          "execution_count": 5,
          "data": {
            "text/plain": "array([0, 2, 4, 6])"
          },
          "metadata": {}
        }
      ],
      "execution_count": 5,
      "metadata": {
        "slideshow": {
          "slide_type": "fragment"
        }
      }
    },
    {
      "cell_type": "code",
      "source": [
        "x ** 2"
      ],
      "outputs": [
        {
          "output_type": "execute_result",
          "execution_count": 6,
          "data": {
            "text/plain": "array([0, 1, 4, 9])"
          },
          "metadata": {}
        }
      ],
      "execution_count": 6,
      "metadata": {
        "slideshow": {
          "slide_type": "fragment"
        }
      }
    },
    {
      "cell_type": "code",
      "source": [
        "x * y"
      ],
      "outputs": [
        {
          "output_type": "execute_result",
          "execution_count": 7,
          "data": {
            "text/plain": "array([0, 1, 4, 9])"
          },
          "metadata": {}
        }
      ],
      "execution_count": 7,
      "metadata": {
        "slideshow": {
          "slide_type": "fragment"
        }
      }
    },
    {
      "cell_type": "code",
      "source": [
        "numpy.dot(x, y)"
      ],
      "outputs": [
        {
          "output_type": "execute_result",
          "execution_count": 8,
          "data": {
            "text/plain": "14"
          },
          "metadata": {}
        }
      ],
      "execution_count": 8,
      "metadata": {
        "slideshow": {
          "slide_type": "fragment"
        }
      }
    },
    {
      "cell_type": "markdown",
      "source": [
        "# Array Slicing"
      ],
      "metadata": {
        "slideshow": {
          "slide_type": "slide"
        }
      }
    },
    {
      "cell_type": "code",
      "source": [
        "x = numpy.arange(20).reshape(4, 5)\n",
        "x"
      ],
      "outputs": [
        {
          "output_type": "execute_result",
          "execution_count": 9,
          "data": {
            "text/plain": "array([[ 0,  1,  2,  3,  4],\n       [ 5,  6,  7,  8,  9],\n       [10, 11, 12, 13, 14],\n       [15, 16, 17, 18, 19]])"
          },
          "metadata": {}
        }
      ],
      "execution_count": 9,
      "metadata": {}
    },
    {
      "cell_type": "code",
      "source": [
        "x[1, 1]"
      ],
      "outputs": [
        {
          "output_type": "execute_result",
          "execution_count": 10,
          "data": {
            "text/plain": "6"
          },
          "metadata": {}
        }
      ],
      "execution_count": 10,
      "metadata": {
        "slideshow": {
          "slide_type": "fragment"
        }
      }
    },
    {
      "cell_type": "code",
      "source": [
        "x[:, 2]"
      ],
      "outputs": [
        {
          "output_type": "execute_result",
          "execution_count": 11,
          "data": {
            "text/plain": "array([ 2,  7, 12, 17])"
          },
          "metadata": {}
        }
      ],
      "execution_count": 11,
      "metadata": {
        "slideshow": {
          "slide_type": "fragment"
        }
      }
    },
    {
      "cell_type": "code",
      "source": [
        "y = x.reshape(2, 2, 5)\n",
        "y"
      ],
      "outputs": [
        {
          "output_type": "execute_result",
          "execution_count": 12,
          "data": {
            "text/plain": "array([[[ 0,  1,  2,  3,  4],\n        [ 5,  6,  7,  8,  9]],\n\n       [[10, 11, 12, 13, 14],\n        [15, 16, 17, 18, 19]]])"
          },
          "metadata": {}
        }
      ],
      "execution_count": 12,
      "metadata": {
        "slideshow": {
          "slide_type": "slide"
        }
      }
    },
    {
      "cell_type": "code",
      "source": [
        "y[:, :, 1]"
      ],
      "outputs": [
        {
          "output_type": "execute_result",
          "execution_count": 13,
          "data": {
            "text/plain": "array([[ 1,  6],\n       [11, 16]])"
          },
          "metadata": {}
        }
      ],
      "execution_count": 13,
      "metadata": {
        "slideshow": {
          "slide_type": "fragment"
        }
      }
    },
    {
      "cell_type": "code",
      "source": [
        "y[..., 1]"
      ],
      "outputs": [
        {
          "output_type": "execute_result",
          "execution_count": 14,
          "data": {
            "text/plain": "array([[ 1,  6],\n       [11, 16]])"
          },
          "metadata": {}
        }
      ],
      "execution_count": 14,
      "metadata": {
        "slideshow": {
          "slide_type": "fragment"
        }
      }
    },
    {
      "cell_type": "markdown",
      "source": [
        "# SciPy Modules\n",
        "\n",
        "- Clustering package (scipy.cluster)\n",
        "- Constants (scipy.constants)\n",
        "- Fourier transforms (scipy.fftpack)\n",
        "- Integration and ODEs (scipy.integrate)\n",
        "- Interpolation (scipy.interpolate)\n",
        "- Input and output (scipy.io)\n",
        "- Linear algebra (scipy.linalg)\n",
        "- Maximum entropy models (scipy.maxentropy)\n",
        "- Miscellaneous routines (scipy.misc)\n",
        "- Multi-dimensional image processing (scipy.ndimage)\n",
        "- Orthogonal distance regression (scipy.odr)\n",
        "- Optimization and root finding (scipy.optimize)"
      ],
      "metadata": {
        "slideshow": {
          "slide_type": "slide"
        }
      }
    },
    {
      "cell_type": "markdown",
      "source": [
        "# SciPy Modules (cont.)\n",
        "\n",
        "- Signal processing (scipy.signal)\n",
        "- Sparse matrices (scipy.sparse)\n",
        "- Sparse linear algebra (scipy.sparse.linalg)\n",
        "- Spatial algorithms and data structures (scipy.spatial)\n",
        "- Distance computations (scipy.spatial.distance)\n",
        "- Special functions (scipy.special)\n",
        "- Statistical functions (scipy.stats)\n",
        "- C/C++ integration (scipy.weave)"
      ],
      "metadata": {
        "slideshow": {
          "slide_type": "slide"
        }
      }
    },
    {
      "cell_type": "markdown",
      "source": [
        "# Other Packages Built on SciPy\n",
        "\n",
        "- `scikit-learn` - \"Machine Learning in Python\"\n",
        "- `sckit-image` - \"Image processing in Python\"\n",
        "\n",
        "And many more http://scikits.appspot.com/scikits"
      ],
      "metadata": {
        "slideshow": {
          "slide_type": "slide"
        }
      }
    },
    {
      "cell_type": "markdown",
      "source": [
        "# Pandas\n",
        "\n",
        "`pandas` has emerged as one of the premier libraries for data analysis in Python. It works with and extends NumPy data types and provides additional useful tools such as:\n",
        "\n",
        "- `Series` and `DataFrame` types\n",
        "- Aggregation and pivoting of data sets\n",
        "- Date range generation\n",
        "- Input/output utilities\n",
        "- Rolling statistics\n",
        "\n",
        "http://pandas.pydata.org/pandas-docs/stable/index.html"
      ],
      "metadata": {
        "slideshow": {
          "slide_type": "slide"
        }
      }
    },
    {
      "cell_type": "markdown",
      "source": [
        "# Dataframes\n",
        "\n",
        "`Dataframes` are a 2-dimensional labeled array structure. You can have both labeled rows and columns allow you to easily reference, manipulate, and aggregate on the data."
      ],
      "metadata": {
        "slideshow": {
          "slide_type": "slide"
        }
      }
    },
    {
      "cell_type": "code",
      "source": [
        "import pandas\n",
        "\n",
        "prices = pandas.DataFrame({'IBM': [100, 99, 101, 102], 'GOOG': [1000, 1010, 1015, 1012]})\n",
        "prices"
      ],
      "outputs": [
        {
          "output_type": "execute_result",
          "execution_count": 9,
          "data": {
            "text/html": "<div>\n<style scoped>\n    .dataframe tbody tr th:only-of-type {\n        vertical-align: middle;\n    }\n\n    .dataframe tbody tr th {\n        vertical-align: top;\n    }\n\n    .dataframe thead th {\n        text-align: right;\n    }\n</style>\n<table border=\"1\" class=\"dataframe\">\n  <thead>\n    <tr style=\"text-align: right;\">\n      <th></th>\n      <th>GOOG</th>\n      <th>IBM</th>\n    </tr>\n  </thead>\n  <tbody>\n    <tr>\n      <th>0</th>\n      <td>1000</td>\n      <td>100</td>\n    </tr>\n    <tr>\n      <th>1</th>\n      <td>1010</td>\n      <td>99</td>\n    </tr>\n    <tr>\n      <th>2</th>\n      <td>1015</td>\n      <td>101</td>\n    </tr>\n    <tr>\n      <th>3</th>\n      <td>1012</td>\n      <td>102</td>\n    </tr>\n  </tbody>\n</table>\n</div>",
            "text/plain": "   GOOG  IBM\n0  1000  100\n1  1010   99\n2  1015  101\n3  1012  102"
          },
          "metadata": {}
        }
      ],
      "execution_count": 9,
      "metadata": {}
    },
    {
      "cell_type": "code",
      "source": [
        "prices.index = ['2018-04-13', '2018-04-16', '2018-04-17', '2018-04-18']\n",
        "prices"
      ],
      "outputs": [
        {
          "output_type": "execute_result",
          "execution_count": 10,
          "data": {
            "text/html": "<div>\n<style scoped>\n    .dataframe tbody tr th:only-of-type {\n        vertical-align: middle;\n    }\n\n    .dataframe tbody tr th {\n        vertical-align: top;\n    }\n\n    .dataframe thead th {\n        text-align: right;\n    }\n</style>\n<table border=\"1\" class=\"dataframe\">\n  <thead>\n    <tr style=\"text-align: right;\">\n      <th></th>\n      <th>GOOG</th>\n      <th>IBM</th>\n    </tr>\n  </thead>\n  <tbody>\n    <tr>\n      <th>2018-04-13</th>\n      <td>1000</td>\n      <td>100</td>\n    </tr>\n    <tr>\n      <th>2018-04-16</th>\n      <td>1010</td>\n      <td>99</td>\n    </tr>\n    <tr>\n      <th>2018-04-17</th>\n      <td>1015</td>\n      <td>101</td>\n    </tr>\n    <tr>\n      <th>2018-04-18</th>\n      <td>1012</td>\n      <td>102</td>\n    </tr>\n  </tbody>\n</table>\n</div>",
            "text/plain": "            GOOG  IBM\n2018-04-13  1000  100\n2018-04-16  1010   99\n2018-04-17  1015  101\n2018-04-18  1012  102"
          },
          "metadata": {}
        }
      ],
      "execution_count": 10,
      "metadata": {
        "slideshow": {
          "slide_type": "notes"
        }
      }
    },
    {
      "cell_type": "code",
      "source": [
        "prices['IBM']"
      ],
      "outputs": [
        {
          "output_type": "execute_result",
          "execution_count": 17,
          "data": {
            "text/plain": "2018-04-13    100\n2018-04-16     99\n2018-04-17    101\n2018-04-18    102\nName: IBM, dtype: int64"
          },
          "metadata": {}
        }
      ],
      "execution_count": 17,
      "metadata": {
        "slideshow": {
          "slide_type": "subslide"
        }
      }
    },
    {
      "cell_type": "code",
      "source": [
        "prices[:'2018-04-13']"
      ],
      "outputs": [
        {
          "output_type": "execute_result",
          "execution_count": 18,
          "data": {
            "text/html": "<div>\n<style scoped>\n    .dataframe tbody tr th:only-of-type {\n        vertical-align: middle;\n    }\n\n    .dataframe tbody tr th {\n        vertical-align: top;\n    }\n\n    .dataframe thead th {\n        text-align: right;\n    }\n</style>\n<table border=\"1\" class=\"dataframe\">\n  <thead>\n    <tr style=\"text-align: right;\">\n      <th></th>\n      <th>GOOG</th>\n      <th>IBM</th>\n    </tr>\n  </thead>\n  <tbody>\n    <tr>\n      <th>2018-04-13</th>\n      <td>1000</td>\n      <td>100</td>\n    </tr>\n  </tbody>\n</table>\n</div>",
            "text/plain": "            GOOG  IBM\n2018-04-13  1000  100"
          },
          "metadata": {}
        }
      ],
      "execution_count": 18,
      "metadata": {}
    },
    {
      "cell_type": "code",
      "source": [
        "prices / prices.shift(1) - 1"
      ],
      "outputs": [
        {
          "output_type": "execute_result",
          "execution_count": 19,
          "data": {
            "text/html": "<div>\n<style scoped>\n    .dataframe tbody tr th:only-of-type {\n        vertical-align: middle;\n    }\n\n    .dataframe tbody tr th {\n        vertical-align: top;\n    }\n\n    .dataframe thead th {\n        text-align: right;\n    }\n</style>\n<table border=\"1\" class=\"dataframe\">\n  <thead>\n    <tr style=\"text-align: right;\">\n      <th></th>\n      <th>GOOG</th>\n      <th>IBM</th>\n    </tr>\n  </thead>\n  <tbody>\n    <tr>\n      <th>2018-04-13</th>\n      <td>NaN</td>\n      <td>NaN</td>\n    </tr>\n    <tr>\n      <th>2018-04-16</th>\n      <td>0.010000</td>\n      <td>-0.010000</td>\n    </tr>\n    <tr>\n      <th>2018-04-17</th>\n      <td>0.004950</td>\n      <td>0.020202</td>\n    </tr>\n    <tr>\n      <th>2018-04-18</th>\n      <td>-0.002956</td>\n      <td>0.009901</td>\n    </tr>\n  </tbody>\n</table>\n</div>",
            "text/plain": "                GOOG       IBM\n2018-04-13       NaN       NaN\n2018-04-16  0.010000 -0.010000\n2018-04-17  0.004950  0.020202\n2018-04-18 -0.002956  0.009901"
          },
          "metadata": {}
        }
      ],
      "execution_count": 19,
      "metadata": {
        "slideshow": {
          "slide_type": "subslide"
        }
      }
    },
    {
      "cell_type": "code",
      "source": [
        "# Percent change with 1 day look back\n",
        "prices.pct_change(1)"
      ],
      "outputs": [
        {
          "output_type": "execute_result",
          "execution_count": 20,
          "data": {
            "text/html": "<div>\n<style scoped>\n    .dataframe tbody tr th:only-of-type {\n        vertical-align: middle;\n    }\n\n    .dataframe tbody tr th {\n        vertical-align: top;\n    }\n\n    .dataframe thead th {\n        text-align: right;\n    }\n</style>\n<table border=\"1\" class=\"dataframe\">\n  <thead>\n    <tr style=\"text-align: right;\">\n      <th></th>\n      <th>GOOG</th>\n      <th>IBM</th>\n    </tr>\n  </thead>\n  <tbody>\n    <tr>\n      <th>2018-04-13</th>\n      <td>NaN</td>\n      <td>NaN</td>\n    </tr>\n    <tr>\n      <th>2018-04-16</th>\n      <td>0.010000</td>\n      <td>-0.010000</td>\n    </tr>\n    <tr>\n      <th>2018-04-17</th>\n      <td>0.004950</td>\n      <td>0.020202</td>\n    </tr>\n    <tr>\n      <th>2018-04-18</th>\n      <td>-0.002956</td>\n      <td>0.009901</td>\n    </tr>\n  </tbody>\n</table>\n</div>",
            "text/plain": "                GOOG       IBM\n2018-04-13       NaN       NaN\n2018-04-16  0.010000 -0.010000\n2018-04-17  0.004950  0.020202\n2018-04-18 -0.002956  0.009901"
          },
          "metadata": {}
        }
      ],
      "execution_count": 20,
      "metadata": {
        "slideshow": {
          "slide_type": "fragment"
        }
      }
    },
    {
      "cell_type": "markdown",
      "source": [
        "Original Notebook by [Mark Lavin](https://github.com/mlavin/lecture-notes)"
      ],
      "metadata": {
        "slideshow": {
          "slide_type": "slide"
        }
      }
    }
  ],
  "metadata": {
    "celltoolbar": "Slideshow",
    "kernelspec": {
      "display_name": "Python 3",
      "language": "python",
      "name": "python3"
    },
    "language_info": {
      "codemirror_mode": {
        "name": "ipython",
        "version": 3
      },
      "file_extension": ".py",
      "mimetype": "text/x-python",
      "name": "python",
      "nbconvert_exporter": "python",
      "pygments_lexer": "ipython3",
      "version": "3.6.4"
    },
    "nteract": {
      "version": "0.24.1"
    }
  },
  "nbformat": 4,
  "nbformat_minor": 2
}