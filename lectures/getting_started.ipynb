{
  "cells": [
    {
      "cell_type": "markdown",
      "source": [
        "# Dynamic Languages for Web Development\n"
      ],
      "metadata": {
        "slideshow": {
          "slide_type": "slide"
        }
      }
    },
    {
      "cell_type": "markdown",
      "source": [
        "# Course Info\n",
        "\n",
        "The main book for the course is Mark Pilgram’s “Dive into Python 3”. The full book is available online at http://www.diveintopython3.net/\n"
      ],
      "metadata": {
        "slideshow": {
          "slide_type": "slide"
        }
      }
    },
    {
      "cell_type": "markdown",
      "source": [
        "These slides are written using Jupyter notebook which allows having some interactive Python in them. This isn't a required way to interact and use Python but it can be great for both data exploration as well as presenting results (and teaching!)"
      ],
      "metadata": {
        "slideshow": {
          "slide_type": "notes"
        }
      }
    },
    {
      "cell_type": "markdown",
      "source": [
        "# What is Python?\n",
        "\n",
        "![XKCD 353](https://imgs.xkcd.com/comics/python.png)"
      ],
      "metadata": {
        "slideshow": {
          "slide_type": "slide"
        }
      }
    },
    {
      "cell_type": "markdown",
      "source": [
        "Open source\n",
        "General purpose\n",
        "Object oriented\n",
        "Dynamically typed\n",
        "Garbage collected\n",
        "Awesome"
      ],
      "metadata": {
        "slideshow": {
          "slide_type": "notes"
        }
      }
    },
    {
      "cell_type": "markdown",
      "source": [
        "# There is More than One Python\n",
        "\n",
        "## Standard Python\n",
        "- Python 2.X - Last stable release 2.7.14\n",
        "- Python 3.X - Currently 3.6.4\n",
        "\n",
        "## Non-standard Python\n",
        "- Jython - Python implementation written in Java\n",
        "- IronPython - Python implementation written in .NET\n",
        "- Cython - Python extension for writing C/C++ extensions\n",
        "- PyPy - Python implementation written in Python (sort of)"
      ],
      "metadata": {
        "slideshow": {
          "slide_type": "slide"
        }
      }
    },
    {
      "cell_type": "markdown",
      "source": [
        "Jython and IronPython supports 2.7\n",
        "PyPy supports Python 2.7 and 3.5 libraries"
      ],
      "metadata": {
        "slideshow": {
          "slide_type": "notes"
        }
      }
    },
    {
      "cell_type": "markdown",
      "source": [
        "# Which Python Should I Use?\n",
        "\n",
        "## Python 3.5+\n",
        "\n",
        "I'm running 3.6 for these examples but 3.5 is great too"
      ],
      "metadata": {
        "slideshow": {
          "slide_type": "slide"
        }
      }
    },
    {
      "cell_type": "markdown",
      "source": [
        "When I gave these lectures the last time there was a lot of debate about Python 2 vs Python 3. Beginning with Python 3.3 the languages started to diverge more meaningfully and now I would say that Python 3.5 is unequivically better than 2.7. Dive Into Python 3 is written for 3.1 and I'll touch on some new features that have been added to the language since then.\n",
        "\n",
        "Fears about libraries that don't yet support Python 3 are no longer well founded. If libraries don't have a plan to update by now then you don't want to use them. If you are learning Python today I would recommend you pretend that Python 2 doesn't exist.\n",
        "\n",
        "PyPy and Cython can be great for optimizations when needed."
      ],
      "metadata": {
        "slideshow": {
          "slide_type": "notes"
        }
      }
    },
    {
      "cell_type": "markdown",
      "source": [
        "# Where can I get Python?\n",
        "\n",
        "You use Linux or a Mac then you probably already have Python 2.7 but you'll probably want a more recent version\n",
        "\n",
        "For Mac I suggest pyenv or Homebrew\n",
        "\n",
        "If you use Windows you can download an executable installer from Python.org"
      ],
      "metadata": {
        "slideshow": {
          "slide_type": "slide"
        }
      }
    },
    {
      "cell_type": "markdown",
      "source": [
        "# Who Uses Python?\n",
        "\n",
        "4th on the TIOBE Index as of Feb 2018 below Java, C, and C++\n",
        "\n",
        "Companies like:\n",
        "\n",
        "- Web: Google, Reddit, Pintrest, Instagram, and Caktus Group\n",
        "- Fortune 500: Honeywell, Phillips, and Red Hat\n",
        "- Researchers and universities: NCSU, UNC, and Duke\n",
        "- Other: Industrial Light & Magic and Disney\n",
        "\n",
        "Read more: http://www.python.org/about/success/"
      ],
      "metadata": {
        "slideshow": {
          "slide_type": "slide"
        }
      }
    },
    {
      "cell_type": "code",
      "source": [
        "print('Hello, World')\n"
      ],
      "outputs": [
        {
          "output_type": "stream",
          "name": "stdout",
          "text": [
            "Hello, World\n"
          ]
        }
      ],
      "execution_count": 3,
      "metadata": {
        "slideshow": {
          "slide_type": "slide"
        }
      }
    },
    {
      "cell_type": "code",
      "source": [
        "def fibonacci(n):\n",
        "    if n <= 2:\n",
        "        return 1\n",
        "    else:\n",
        "        return fibonacci(n - 1) + fibonacci(n - 2)\n",
        "\n",
        "for i in range(1, 15):\n",
        "    print(fibonacci(i))\n"
      ],
      "outputs": [
        {
          "output_type": "stream",
          "name": "stdout",
          "text": [
            "1\n",
            "1\n",
            "2\n",
            "3\n",
            "5\n",
            "8\n",
            "13\n",
            "21\n",
            "34\n",
            "55\n",
            "89\n",
            "144\n",
            "233\n",
            "377\n"
          ]
        }
      ],
      "execution_count": 5,
      "metadata": {
        "slideshow": {
          "slide_type": "slide"
        }
      }
    },
    {
      "cell_type": "markdown",
      "source": [
        "# Learn to Love Whitespace\n",
        "\n",
        "Python was created with the idea that most code will be read more times than it’s written.\n",
        "\n",
        "Whitespace is meaningful for seperating code blocks without the use of braces.\n",
        "\n",
        "The `pass` statement can be used to hold an empty logical or function block."
      ],
      "metadata": {
        "slideshow": {
          "slide_type": "slide"
        }
      }
    },
    {
      "cell_type": "markdown",
      "source": [
        "Deep indentation is a code smell for potential refactoring and Python helps you see that clearly."
      ],
      "metadata": {
        "slideshow": {
          "slide_type": "notes"
        }
      }
    },
    {
      "cell_type": "markdown",
      "source": [
        "# PEP8\n",
        "\n",
        "The convention is to use 4 spaces per indention and you cannot mix tabs and spaces.\n",
        "\n",
        "Suggested max line length is 79 characters. Backslash is a line continuation character but lines can also be extended with parentheses.\n",
        "\n",
        "```python\n",
        "def my_long_function(arg1, arg2, optional_arg1=\"fizz\",\n",
        "                     optional_arg2=\"buzz\", optional_arg3=\"done\"):\n",
        "    pass\n",
        "```\n",
        "\n",
        "You can read the full style guide online\n",
        "http://www.python.org/dev/peps/pep-0008/\n"
      ],
      "metadata": {
        "slideshow": {
          "slide_type": "slide"
        }
      }
    },
    {
      "cell_type": "markdown",
      "source": [
        "There are linting tools like PyLint and PyFlakes to help find style issues as well as to preform other checks like unused variables or imports."
      ],
      "metadata": {
        "slideshow": {
          "slide_type": "notes"
        }
      }
    },
    {
      "cell_type": "code",
      "source": [
        "import this"
      ],
      "outputs": [
        {
          "output_type": "stream",
          "name": "stdout",
          "text": [
            "The Zen of Python, by Tim Peters\n",
            "\n",
            "Beautiful is better than ugly.\n",
            "Explicit is better than implicit.\n",
            "Simple is better than complex.\n",
            "Complex is better than complicated.\n",
            "Flat is better than nested.\n",
            "Sparse is better than dense.\n",
            "Readability counts.\n",
            "Special cases aren't special enough to break the rules.\n",
            "Although practicality beats purity.\n",
            "Errors should never pass silently.\n",
            "Unless explicitly silenced.\n",
            "In the face of ambiguity, refuse the temptation to guess.\n",
            "There should be one-- and preferably only one --obvious way to do it.\n",
            "Although that way may not be obvious at first unless you're Dutch.\n",
            "Now is better than never.\n",
            "Although never is often better than *right* now.\n",
            "If the implementation is hard to explain, it's a bad idea.\n",
            "If the implementation is easy to explain, it may be a good idea.\n",
            "Namespaces are one honking great idea -- let's do more of those!\n"
          ]
        }
      ],
      "execution_count": 5,
      "metadata": {
        "slideshow": {
          "slide_type": "slide"
        }
      }
    },
    {
      "cell_type": "markdown",
      "source": [
        "These ideas are captured in the Zen of Python. It's something that I think about when I write Python and these are the values that the community is built around."
      ],
      "metadata": {
        "slideshow": {
          "slide_type": "notes"
        }
      }
    },
    {
      "cell_type": "markdown",
      "source": [
        "# Declaring Functions\n",
        "\n",
        "Functions are declared with the `def` keyword:\n",
        "\n",
        "```python\n",
        "def my_function():\n",
        "    pass\n",
        "```\n",
        "\n",
        "Arguments can given starting with required then optional:\n",
        "\n",
        "```python\n",
        "def short_name(first_name, last_name=\"Smith\"):\n",
        "    return \"%s %s\" % (first_name[0], last_name)\n",
        "```\n",
        "\n",
        "Notice that the arguments do not declare their type."
      ],
      "metadata": {
        "slideshow": {
          "slide_type": "slide"
        }
      }
    },
    {
      "cell_type": "markdown",
      "source": [
        "# Typing\n",
        "\n",
        "Python is dynamically typed meaning you do not need to declare the types of your variables before using them. The variable type is determined when the program is executed.\n",
        "\n",
        "Python is strongly typed meaning that type is enforced."
      ],
      "metadata": {
        "slideshow": {
          "slide_type": "slide"
        }
      }
    },
    {
      "cell_type": "code",
      "source": [
        "a = 1 # a is now an integer\n",
        "b = '2' # b is now a string\n",
        "a + b # this will fail"
      ],
      "outputs": [
        {
          "output_type": "error",
          "ename": "TypeError",
          "evalue": "unsupported operand type(s) for +: 'int' and 'str'",
          "traceback": [
            "\u001b[0;31m---------------------------------------------------------------------------\u001b[0m",
            "\u001b[0;31mTypeError\u001b[0m                                 Traceback (most recent call last)",
            "\u001b[0;32m<ipython-input-10-77cf1aad6cf7>\u001b[0m in \u001b[0;36m<module>\u001b[0;34m()\u001b[0m\n\u001b[1;32m      1\u001b[0m \u001b[0ma\u001b[0m \u001b[0;34m=\u001b[0m \u001b[0;36m1\u001b[0m \u001b[0;31m# a is now an integer\u001b[0m\u001b[0;34m\u001b[0m\u001b[0m\n\u001b[1;32m      2\u001b[0m \u001b[0mb\u001b[0m \u001b[0;34m=\u001b[0m \u001b[0;34m'2'\u001b[0m \u001b[0;31m# b is now a string\u001b[0m\u001b[0;34m\u001b[0m\u001b[0m\n\u001b[0;32m----> 3\u001b[0;31m \u001b[0ma\u001b[0m \u001b[0;34m+\u001b[0m \u001b[0mb\u001b[0m \u001b[0;31m# this will fail\u001b[0m\u001b[0;34m\u001b[0m\u001b[0m\n\u001b[0m",
            "\u001b[0;31mTypeError\u001b[0m: unsupported operand type(s) for +: 'int' and 'str'"
          ]
        }
      ],
      "execution_count": 10,
      "metadata": {
        "slideshow": {
          "slide_type": "slide"
        }
      }
    },
    {
      "cell_type": "code",
      "source": [
        "str(a) + b"
      ],
      "outputs": [
        {
          "output_type": "execute_result",
          "execution_count": 11,
          "data": {
            "text/plain": "'12'"
          },
          "metadata": {}
        }
      ],
      "execution_count": 11,
      "metadata": {
        "slideshow": {
          "slide_type": "fragment"
        }
      }
    },
    {
      "cell_type": "markdown",
      "source": [
        "# Type Annotations\n",
        "\n",
        "**New in Python 3.5 - (PEP484)[https://www.python.org/dev/peps/pep-0484/]**\n",
        "\n",
        "You can annotate your functions with the types they take/return\n",
        "\n",
        "```python\n",
        "def short_name(first_name: str, last_name=\"Smith\": str) -> str:\n",
        "    return \"%s %s\" % (first_name[0], last_name)\n",
        "```\n",
        "\n",
        "This can help document your code but this isn't enforced at runtime."
      ],
      "metadata": {
        "slideshow": {
          "slide_type": "slide"
        }
      }
    },
    {
      "cell_type": "markdown",
      "source": [
        "Additional tooling is being developed in this area so watch this space."
      ],
      "metadata": {
        "slideshow": {
          "slide_type": "notes"
        }
      }
    },
    {
      "cell_type": "markdown",
      "source": [
        "# Everything is an Object\n",
        "\n",
        "Everything has:\n",
        "- An identity\n",
        "- A type\n",
        "- Some content\n",
        "\n",
        "Great expanation of Python Object model:\n",
        "http://www.effbot.org/zone/python-objects.htm"
      ],
      "metadata": {
        "slideshow": {
          "slide_type": "slide"
        }
      }
    },
    {
      "cell_type": "code",
      "source": [
        "import math\n",
        "\n",
        "math.sqrt(4)"
      ],
      "outputs": [
        {
          "output_type": "execute_result",
          "execution_count": 12,
          "data": {
            "text/plain": "2.0"
          },
          "metadata": {}
        }
      ],
      "execution_count": 12,
      "metadata": {
        "slideshow": {
          "slide_type": "slide"
        }
      }
    },
    {
      "cell_type": "code",
      "source": [
        "math.sqrt.__doc__"
      ],
      "outputs": [
        {
          "output_type": "execute_result",
          "execution_count": 14,
          "data": {
            "text/plain": "'sqrt(x)\\n\\nReturn the square root of x.'"
          },
          "metadata": {}
        }
      ],
      "execution_count": 14,
      "metadata": {
        "slideshow": {
          "slide_type": "fragment"
        }
      }
    },
    {
      "cell_type": "markdown",
      "source": [
        "Functions and classes can and do have attributes. This particular attribute is call the doc string. You can use it to document your functions."
      ],
      "metadata": {
        "slideshow": {
          "slide_type": "notes"
        }
      }
    },
    {
      "cell_type": "code",
      "source": [
        "import time\n",
        "\n",
        "\n",
        "def fibonacci(n):\n",
        "    if n <= 2:\n",
        "        return 1\n",
        "    else:\n",
        "        return fibonacci(n - 1) + fibonacci(n - 2)\n",
        "\n",
        "start = time.time()\n",
        "fibonacci(25)\n",
        "time.time() - start\n"
      ],
      "outputs": [
        {
          "output_type": "execute_result",
          "execution_count": 16,
          "data": {
            "text/plain": "0.11204242706298828"
          },
          "metadata": {}
        }
      ],
      "execution_count": 16,
      "metadata": {
        "slideshow": {
          "slide_type": "slide"
        }
      }
    },
    {
      "cell_type": "markdown",
      "source": [
        "Let's use this to cache our fibonacci calculations. Here's the original code which runs in 41 ms."
      ],
      "metadata": {
        "slideshow": {
          "slide_type": "notes"
        }
      }
    },
    {
      "cell_type": "code",
      "source": [
        "import time\n",
        "\n",
        "\n",
        "def fibonacci(n):\n",
        "    if hasattr(fibonacci, '_%s' % n):\n",
        "        return getattr(fibonacci, '_%s' % n)\n",
        "    if n <= 2:\n",
        "        value = 1\n",
        "        setattr(fibonacci, '_%s' % n, value)\n",
        "        return value\n",
        "    else:\n",
        "        value = fibonacci(n - 1) + fibonacci(n - 2)\n",
        "        setattr(fibonacci, '_%s' % n, value)\n",
        "        return value\n",
        "\n",
        "start = time.time()\n",
        "fibonacci(25)\n",
        "time.time() - start\n"
      ],
      "outputs": [
        {
          "output_type": "execute_result",
          "execution_count": 20,
          "data": {
            "text/plain": "0.00019669532775878906"
          },
          "metadata": {}
        }
      ],
      "execution_count": 20,
      "metadata": {
        "slideshow": {
          "slide_type": "slide"
        }
      }
    },
    {
      "cell_type": "code",
      "source": [
        "fibonacci._10"
      ],
      "outputs": [
        {
          "output_type": "execute_result",
          "execution_count": 21,
          "data": {
            "text/plain": "55"
          },
          "metadata": {}
        }
      ],
      "execution_count": 21,
      "metadata": {
        "slideshow": {
          "slide_type": "fragment"
        }
      }
    },
    {
      "cell_type": "code",
      "source": [
        "fibonacci._11"
      ],
      "outputs": [
        {
          "output_type": "execute_result",
          "execution_count": 23,
          "data": {
            "text/plain": "89"
          },
          "metadata": {}
        }
      ],
      "execution_count": 23,
      "metadata": {}
    },
    {
      "cell_type": "markdown",
      "source": [
        "This isn't the most memory efficient way to handle this. This uses attributes on the function itself to cache the results. You can see it now runs in under a ms. We can also examine the cache results attached to the function."
      ],
      "metadata": {
        "slideshow": {
          "slide_type": "notes"
        }
      }
    },
    {
      "cell_type": "code",
      "source": [
        "import math\n",
        "\n",
        "def do_math(f, x):\n",
        "    print(f(x))\n",
        "\n",
        "y = math.sqrt\n",
        "do_math(y, 10)\n",
        "y = math.log\n",
        "do_math(y, 10)"
      ],
      "outputs": [
        {
          "output_type": "stream",
          "name": "stdout",
          "text": [
            "3.1622776601683795\n",
            "2.302585092994046\n"
          ]
        }
      ],
      "execution_count": 3,
      "metadata": {
        "slideshow": {
          "slide_type": "slide"
        }
      }
    },
    {
      "cell_type": "markdown",
      "source": [
        "Functions can be assigned to variables just like any other object."
      ],
      "metadata": {
        "slideshow": {
          "slide_type": "notes"
        }
      }
    },
    {
      "cell_type": "code",
      "source": [
        "import math\n",
        "\n",
        "math.log(10)"
      ],
      "outputs": [
        {
          "output_type": "execute_result",
          "execution_count": 24,
          "data": {
            "text/plain": "2.302585092994046"
          },
          "metadata": {}
        }
      ],
      "execution_count": 24,
      "metadata": {
        "slideshow": {
          "slide_type": "slide"
        }
      }
    },
    {
      "cell_type": "code",
      "source": [
        "def new_log(x):\n",
        "    return 5\n",
        "\n",
        "math.log = new_log\n",
        "math.log(10)"
      ],
      "outputs": [
        {
          "output_type": "execute_result",
          "execution_count": 25,
          "data": {
            "text/plain": "5"
          },
          "metadata": {}
        }
      ],
      "execution_count": 25,
      "metadata": {
        "slideshow": {
          "slide_type": "fragment"
        }
      }
    },
    {
      "cell_type": "markdown",
      "source": [
        "Functions can be changed a run time. This is referred to as monkey patching (or sometimes duck punching)."
      ],
      "metadata": {
        "slideshow": {
          "slide_type": "notes"
        }
      }
    },
    {
      "cell_type": "markdown",
      "source": [
        "# What Do I Put in The Function?\n",
        "\n",
        "Many of the same operators you know and love from C:\n",
        "\n",
        "```python\n",
        "# add, subtract, multiply, divide\n",
        "a + b, a - b, a * b , a / b\n",
        "# exponentiation, floor divide, modulo\n",
        "a ** b, a // b, a % b\n",
        "# bitwise inverse, left bit shift, right bit shift\n",
        "~a, a << b, a >> b\n",
        "# bitwise and, bitwise or, bitwise xor\n",
        "a & b, a | b, a ^ b\n",
        "```"
      ],
      "metadata": {
        "slideshow": {
          "slide_type": "slide"
        }
      }
    },
    {
      "cell_type": "markdown",
      "source": [
        "# Comparisons And Logic\n",
        "\n",
        "Most will be familiar:\n",
        "\n",
        "```python\n",
        "# less than, less equal, greater than, greater equal\n",
        "a < b, a <= b, a > b, a >= b\n",
        "# equal, not equal, object identity, object identity negation\n",
        "a == b, a != b, a is b, a is not b\n",
        "# collection membership, collection membership negation\n",
        "a in b, a not in b\n",
        "# logical and, logical or, logical negation\n",
        "a and b, a or b, not a\n",
        "```"
      ],
      "metadata": {
        "slideshow": {
          "slide_type": "slide"
        }
      }
    },
    {
      "cell_type": "markdown",
      "source": [
        "# Comparisons Can be Chained\n",
        "\n",
        "```python\n",
        "x < 10 and x > 5\n",
        "```\n",
        "\n",
        "is the same as\n",
        "\n",
        "```python\n",
        "5 < x < 10\n",
        "```"
      ],
      "metadata": {
        "slideshow": {
          "slide_type": "slide"
        }
      }
    },
    {
      "cell_type": "markdown",
      "source": [
        "# Control Statements\n",
        "\n",
        "The basic flow control statements should also look familiar from C though the syntax is slightly different.\n",
        "\n",
        "```python\n",
        "if, else, for, while\n",
        "```\n",
        "The same as with functions there are no braces to define the logical blocks. Instead everything is defined by the whitespace indention."
      ],
      "metadata": {
        "slideshow": {
          "slide_type": "slide"
        }
      }
    },
    {
      "cell_type": "markdown",
      "source": [
        "Note there is no `switch` statement in Python."
      ],
      "metadata": {
        "slideshow": {
          "slide_type": "notes"
        }
      }
    },
    {
      "cell_type": "markdown",
      "source": [
        "# If\n",
        "\n",
        "The `if` statement defines a control block which will only execute when a logical statement is true. This can be paired with an `else` statement to define how to handle the false case. To avoid deep nesting you can also use `elif` statement.\n",
        "\n",
        "```python\n",
        "if x > 100:\n",
        "    print(\"That's a lot!\")\n",
        "elif x > 10:\n",
        "    print(\"That's ok.\")\n",
        "else:\n",
        "    print(\"That's all you've got?\")\n",
        "```"
      ],
      "metadata": {
        "slideshow": {
          "slide_type": "slide"
        }
      }
    },
    {
      "cell_type": "markdown",
      "source": [
        "# For\n",
        "\n",
        "The `for` statement is used to loop through any iterable. This includes lists and strings. User defined type can also have the ability to be iterated by defining the iteration protocol.\n",
        "\n",
        "```python\n",
        "for x in [1, 2, 3]:\n",
        "    print(x)\n",
        "```\n",
        "    \n",
        "You can use the enumerate function to add the current index.\n",
        "\n",
        "```python\n",
        "for i, c in enumerate(\"blip\"):\n",
        "    print(\"Character %s is %s\" (i, c))\n",
        "```"
      ],
      "metadata": {
        "slideshow": {
          "slide_type": "slide"
        }
      }
    },
    {
      "cell_type": "markdown",
      "source": [
        "# Range\n",
        "\n",
        "`range` allows you to generate a sequence of integers between a particular range. It starts at zero and increases by one but those are available arguments."
      ],
      "metadata": {
        "slideshow": {
          "slide_type": "slide"
        }
      }
    },
    {
      "cell_type": "code",
      "source": [
        "for i in range(5):\n",
        "    print(i)"
      ],
      "outputs": [
        {
          "output_type": "stream",
          "name": "stdout",
          "text": [
            "0\n",
            "1\n",
            "2\n",
            "3\n",
            "4\n"
          ]
        }
      ],
      "execution_count": 5,
      "metadata": {
        "slideshow": {
          "slide_type": "fragment"
        }
      }
    },
    {
      "cell_type": "code",
      "source": [
        "for i in range(1, 5):\n",
        "    print(i)"
      ],
      "outputs": [
        {
          "output_type": "stream",
          "name": "stdout",
          "text": [
            "1\n",
            "2\n",
            "3\n",
            "4\n"
          ]
        }
      ],
      "execution_count": 6,
      "metadata": {
        "slideshow": {
          "slide_type": "subslide"
        }
      }
    },
    {
      "cell_type": "code",
      "source": [
        "for i in range(1, 5, 2):\n",
        "    print(i)"
      ],
      "outputs": [
        {
          "output_type": "stream",
          "name": "stdout",
          "text": [
            "1\n",
            "3\n"
          ]
        }
      ],
      "execution_count": 7,
      "metadata": {
        "slideshow": {
          "slide_type": "fragment"
        }
      }
    },
    {
      "cell_type": "code",
      "source": [
        "for name in ['Newton', 'x', 'Euler']:\n",
        "    if 'x' in name:\n",
        "        continue\n",
        "    else:\n",
        "        print(name)\n",
        "\n",
        "for name in []:\n",
        "    print(\"Names were given.\")\n",
        "else:\n",
        "    print(\"No names were given.\")"
      ],
      "outputs": [
        {
          "output_type": "stream",
          "name": "stdout",
          "text": [
            "Newton\n",
            "Euler\n",
            "No names were given.\n"
          ]
        }
      ],
      "execution_count": 9,
      "metadata": {
        "slideshow": {
          "slide_type": "slide"
        }
      }
    },
    {
      "cell_type": "markdown",
      "source": [
        "The `break` statement can be used to end the execution of a loop early. The `continue` statement can be used to skip to next item in the loop without executing the rest of the loop. The `else` statement can be used with a `for` loop to execute in the case where the collection is empty."
      ],
      "metadata": {
        "slideshow": {
          "slide_type": "notes"
        }
      }
    },
    {
      "cell_type": "markdown",
      "source": [
        "# While\n",
        "\n",
        "In addition to the `for` loop there is also the `while` loop. The `while` loop will continue until a particular logical statement is false.\n",
        "\n",
        "```python\n",
        "x = 10\n",
        "while x > 5:\n",
        "    x -= 1\n",
        "```"
      ],
      "metadata": {
        "slideshow": {
          "slide_type": "slide"
        }
      }
    },
    {
      "cell_type": "markdown",
      "source": [
        "As with other languages, it's possible to create an infinite `while` loop by having a statement which is always true."
      ],
      "metadata": {
        "slideshow": {
          "slide_type": "notes"
        }
      }
    },
    {
      "cell_type": "markdown",
      "source": [
        "# Pass\n",
        "\n",
        "`pass` is a special keyword in Python that does nothing. It can be used to fill a control block or a function or a class definition."
      ],
      "metadata": {
        "slideshow": {
          "slide_type": "slide"
        }
      }
    },
    {
      "cell_type": "markdown",
      "source": [
        "# Comments\n",
        "\n",
        "Python comments are denoted with the `#` character. While not techinally a comment you can also use triple quoted strings as a multi-line comment. This is the style used to define doc strings previously discussed.\n",
        "\n",
        "```python\n",
        "# My Comment\n",
        "\n",
        "\"\"\"\n",
        "This is a longer comment.\n",
        "Blah blah blah.\n",
        "Though technically it's a string literal.\n",
        "\"\"\"\n",
        "```"
      ],
      "metadata": {
        "slideshow": {
          "slide_type": "slide"
        }
      }
    },
    {
      "cell_type": "markdown",
      "source": [
        "# Building Python Module\n",
        "\n",
        "Python modules are collections of Python statements. They stored in text files with the .py extension. The module name is the same as the file name without the extension."
      ],
      "metadata": {
        "slideshow": {
          "slide_type": "slide"
        }
      }
    },
    {
      "cell_type": "markdown",
      "source": [
        "Eventually you'll write something that logically needs to be organized into multiple Python files."
      ],
      "metadata": {
        "slideshow": {
          "slide_type": "notes"
        }
      }
    },
    {
      "cell_type": "markdown",
      "source": [
        "# Modules as Scripts\n",
        "\n",
        "When you pass a module to the interpreter such as `python hello.py` the module name changes from `hello` to `__main__`. You can use this fact to handle the case where the module is executed differently than when the module is imported.\n",
        "\n",
        "```python\n",
        "if __name__ == \"__main__\":\n",
        "    print(\"I am a script.\")\n",
        "else:\n",
        "    print(\"I am a module.\")\n",
        "```"
      ],
      "metadata": {
        "slideshow": {
          "slide_type": "slide"
        }
      }
    },
    {
      "cell_type": "markdown",
      "source": [
        "# Imports\n",
        "\n",
        "We’ve already seen some import statements but there are three styles of Python imports.\n",
        "\n",
        "```python\n",
        "# Add a reference to the module\n",
        "import X\n",
        "# Creates references to all public objects in X\n",
        "from X import *\n",
        "# Creates refernces to the names a, b, c\n",
        "from X import a, b, c\n",
        "# Add a reference to the module\n",
        "X = __import__('X')\n",
        "```"
      ],
      "metadata": {
        "slideshow": {
          "slide_type": "slide"
        }
      }
    },
    {
      "cell_type": "markdown",
      "source": [
        "Use `import` is generally preferred but `import..from` is often used to shorten references in the code itself. Avoid `from X import *` because it makes your code less readable since it isn’t clear where certain names and objects are defined."
      ],
      "metadata": {
        "slideshow": {
          "slide_type": "notes"
        }
      }
    },
    {
      "cell_type": "markdown",
      "source": [
        "# Python Path\n",
        "\n",
        "Where does Python look for modules to import? The Python path.\n",
        "\n",
        "This is defined by the `PYTHONPATH` environment variable in your shell.\n"
      ],
      "metadata": {
        "slideshow": {
          "slide_type": "slide"
        }
      }
    },
    {
      "cell_type": "code",
      "source": [
        "import sys\n",
        "\n",
        "sys.path"
      ],
      "outputs": [
        {
          "output_type": "stream",
          "name": "stdout",
          "text": [
            "['', '/home/mark/.virtualenvs/lectures/lib/python36.zip', '/home/mark/.virtualenvs/lectures/lib/python3.6', '/home/mark/.virtualenvs/lectures/lib/python3.6/lib-dynload', '/usr/lib/python3.6', '/home/mark/.virtualenvs/lectures/lib/python3.6/site-packages', '/home/mark/.virtualenvs/lectures/lib/python3.6/site-packages/IPython/extensions', '/home/mark/.ipython']\n"
          ]
        }
      ],
      "execution_count": 10,
      "metadata": {
        "slideshow": {
          "slide_type": "fragment"
        }
      }
    },
    {
      "cell_type": "markdown",
      "source": [
        "# What Happens on Import?\n",
        "\n",
        "When Python imports a module, it first checks the module registry (`sys.modules`) to see if the module is already imported. If that’s the case, Python uses the existing module object as is.\n",
        "\n",
        "Otherwise, Python does something like this:\n",
        "\n",
        "- Create a new, empty module object (this is essentially a dictionary)\n",
        "- Insert that module object in the `sys.modules` dictionary\n",
        "- Load the module code object (if necessary, compile the module first)\n",
        "- Execute the module code object in the new module’s namespace. All variables assigned by the code will be available via the module object."
      ],
      "metadata": {
        "slideshow": {
          "slide_type": "slide"
        }
      }
    },
    {
      "cell_type": "code",
      "source": [
        "import math\n",
        "\n",
        "dir(math)"
      ],
      "outputs": [
        {
          "output_type": "stream",
          "name": "stdout",
          "text": [
            "['__doc__', '__loader__', '__name__', '__package__', '__spec__', 'acos', 'acosh', 'asin', 'asinh', 'atan', 'atan2', 'atanh', 'ceil', 'copysign', 'cos', 'cosh', 'degrees', 'e', 'erf', 'erfc', 'exp', 'expm1', 'fabs', 'factorial', 'floor', 'fmod', 'frexp', 'fsum', 'gamma', 'gcd', 'hypot', 'inf', 'isclose', 'isfinite', 'isinf', 'isnan', 'ldexp', 'lgamma', 'log', 'log10', 'log1p', 'log2', 'modf', 'nan', 'pi', 'pow', 'radians', 'sin', 'sinh', 'sqrt', 'tan', 'tanh', 'tau', 'trunc']\n"
          ]
        }
      ],
      "execution_count": 12,
      "metadata": {
        "slideshow": {
          "slide_type": "slide"
        }
      }
    },
    {
      "cell_type": "markdown",
      "source": [
        "To see all the objects (remember everything is an object) defined in a module you can use the built-in dir function. For help you can call help."
      ],
      "metadata": {
        "slideshow": {
          "slide_type": "notes"
        }
      }
    },
    {
      "cell_type": "code",
      "source": [
        "help(math)"
      ],
      "outputs": [
        {
          "output_type": "stream",
          "name": "stdout",
          "text": [
            "Help on built-in module math:\n",
            "\n",
            "NAME\n",
            "    math\n",
            "\n",
            "DESCRIPTION\n",
            "    This module is always available.  It provides access to the\n",
            "    mathematical functions defined by the C standard.\n",
            "\n",
            "FUNCTIONS\n",
            "    acos(...)\n",
            "        acos(x)\n",
            "        \n",
            "        Return the arc cosine (measured in radians) of x.\n",
            "    \n",
            "    acosh(...)\n",
            "        acosh(x)\n",
            "        \n",
            "        Return the inverse hyperbolic cosine of x.\n",
            "    \n",
            "    asin(...)\n",
            "        asin(x)\n",
            "        \n",
            "        Return the arc sine (measured in radians) of x.\n",
            "    \n",
            "    asinh(...)\n",
            "        asinh(x)\n",
            "        \n",
            "        Return the inverse hyperbolic sine of x.\n",
            "    \n",
            "    atan(...)\n",
            "        atan(x)\n",
            "        \n",
            "        Return the arc tangent (measured in radians) of x.\n",
            "    \n",
            "    atan2(...)\n",
            "        atan2(y, x)\n",
            "        \n",
            "        Return the arc tangent (measured in radians) of y/x.\n",
            "        Unlike atan(y/x), the signs of both x and y are considered.\n",
            "    \n",
            "    atanh(...)\n",
            "        atanh(x)\n",
            "        \n",
            "        Return the inverse hyperbolic tangent of x.\n",
            "    \n",
            "    ceil(...)\n",
            "        ceil(x)\n",
            "        \n",
            "        Return the ceiling of x as an Integral.\n",
            "        This is the smallest integer >= x.\n",
            "    \n",
            "    copysign(...)\n",
            "        copysign(x, y)\n",
            "        \n",
            "        Return a float with the magnitude (absolute value) of x but the sign \n",
            "        of y. On platforms that support signed zeros, copysign(1.0, -0.0) \n",
            "        returns -1.0.\n",
            "    \n",
            "    cos(...)\n",
            "        cos(x)\n",
            "        \n",
            "        Return the cosine of x (measured in radians).\n",
            "    \n",
            "    cosh(...)\n",
            "        cosh(x)\n",
            "        \n",
            "        Return the hyperbolic cosine of x.\n",
            "    \n",
            "    degrees(...)\n",
            "        degrees(x)\n",
            "        \n",
            "        Convert angle x from radians to degrees.\n",
            "    \n",
            "    erf(...)\n",
            "        erf(x)\n",
            "        \n",
            "        Error function at x.\n",
            "    \n",
            "    erfc(...)\n",
            "        erfc(x)\n",
            "        \n",
            "        Complementary error function at x.\n",
            "    \n",
            "    exp(...)\n",
            "        exp(x)\n",
            "        \n",
            "        Return e raised to the power of x.\n",
            "    \n",
            "    expm1(...)\n",
            "        expm1(x)\n",
            "        \n",
            "        Return exp(x)-1.\n",
            "        This function avoids the loss of precision involved in the direct evaluation of exp(x)-1 for small x.\n",
            "    \n",
            "    fabs(...)\n",
            "        fabs(x)\n",
            "        \n",
            "        Return the absolute value of the float x.\n",
            "    \n",
            "    factorial(...)\n",
            "        factorial(x) -> Integral\n",
            "        \n",
            "        Find x!. Raise a ValueError if x is negative or non-integral.\n",
            "    \n",
            "    floor(...)\n",
            "        floor(x)\n",
            "        \n",
            "        Return the floor of x as an Integral.\n",
            "        This is the largest integer <= x.\n",
            "    \n",
            "    fmod(...)\n",
            "        fmod(x, y)\n",
            "        \n",
            "        Return fmod(x, y), according to platform C.  x % y may differ.\n",
            "    \n",
            "    frexp(...)\n",
            "        frexp(x)\n",
            "        \n",
            "        Return the mantissa and exponent of x, as pair (m, e).\n",
            "        m is a float and e is an int, such that x = m * 2.**e.\n",
            "        If x is 0, m and e are both 0.  Else 0.5 <= abs(m) < 1.0.\n",
            "    \n",
            "    fsum(...)\n",
            "        fsum(iterable)\n",
            "        \n",
            "        Return an accurate floating point sum of values in the iterable.\n",
            "        Assumes IEEE-754 floating point arithmetic.\n",
            "    \n",
            "    gamma(...)\n",
            "        gamma(x)\n",
            "        \n",
            "        Gamma function at x.\n",
            "    \n",
            "    gcd(...)\n",
            "        gcd(x, y) -> int\n",
            "        greatest common divisor of x and y\n",
            "    \n",
            "    hypot(...)\n",
            "        hypot(x, y)\n",
            "        \n",
            "        Return the Euclidean distance, sqrt(x*x + y*y).\n",
            "    \n",
            "    isclose(...)\n",
            "        isclose(a, b, *, rel_tol=1e-09, abs_tol=0.0) -> bool\n",
            "        \n",
            "        Determine whether two floating point numbers are close in value.\n",
            "        \n",
            "           rel_tol\n",
            "               maximum difference for being considered \"close\", relative to the\n",
            "               magnitude of the input values\n",
            "            abs_tol\n",
            "               maximum difference for being considered \"close\", regardless of the\n",
            "               magnitude of the input values\n",
            "        \n",
            "        Return True if a is close in value to b, and False otherwise.\n",
            "        \n",
            "        For the values to be considered close, the difference between them\n",
            "        must be smaller than at least one of the tolerances.\n",
            "        \n",
            "        -inf, inf and NaN behave similarly to the IEEE 754 Standard.  That\n",
            "        is, NaN is not close to anything, even itself.  inf and -inf are\n",
            "        only close to themselves.\n",
            "    \n",
            "    isfinite(...)\n",
            "        isfinite(x) -> bool\n",
            "        \n",
            "        Return True if x is neither an infinity nor a NaN, and False otherwise.\n",
            "    \n",
            "    isinf(...)\n",
            "        isinf(x) -> bool\n",
            "        \n",
            "        Return True if x is a positive or negative infinity, and False otherwise.\n",
            "    \n",
            "    isnan(...)\n",
            "        isnan(x) -> bool\n",
            "        \n",
            "        Return True if x is a NaN (not a number), and False otherwise.\n",
            "    \n",
            "    ldexp(...)\n",
            "        ldexp(x, i)\n",
            "        \n",
            "        Return x * (2**i).\n",
            "    \n",
            "    lgamma(...)\n",
            "        lgamma(x)\n",
            "        \n",
            "        Natural logarithm of absolute value of Gamma function at x.\n",
            "    \n",
            "    log10(...)\n",
            "        log10(x)\n",
            "        \n",
            "        Return the base 10 logarithm of x.\n",
            "    \n",
            "    log1p(...)\n",
            "        log1p(x)\n",
            "        \n",
            "        Return the natural logarithm of 1+x (base e).\n",
            "        The result is computed in a way which is accurate for x near zero.\n",
            "    \n",
            "    log2(...)\n",
            "        log2(x)\n",
            "        \n",
            "        Return the base 2 logarithm of x.\n",
            "    \n",
            "    modf(...)\n",
            "        modf(x)\n",
            "        \n",
            "        Return the fractional and integer parts of x.  Both results carry the sign\n",
            "        of x and are floats.\n",
            "    \n",
            "    pow(...)\n",
            "        pow(x, y)\n",
            "        \n",
            "        Return x**y (x to the power of y).\n",
            "    \n",
            "    radians(...)\n",
            "        radians(x)\n",
            "        \n",
            "        Convert angle x from degrees to radians.\n",
            "    \n",
            "    sin(...)\n",
            "        sin(x)\n",
            "        \n",
            "        Return the sine of x (measured in radians).\n",
            "    \n",
            "    sinh(...)\n",
            "        sinh(x)\n",
            "        \n",
            "        Return the hyperbolic sine of x.\n",
            "    \n",
            "    sqrt(...)\n",
            "        sqrt(x)\n",
            "        \n",
            "        Return the square root of x.\n",
            "    \n",
            "    tan(...)\n",
            "        tan(x)\n",
            "        \n",
            "        Return the tangent of x (measured in radians).\n",
            "    \n",
            "    tanh(...)\n",
            "        tanh(x)\n",
            "        \n",
            "        Return the hyperbolic tangent of x.\n",
            "    \n",
            "    trunc(...)\n",
            "        trunc(x:Real) -> Integral\n",
            "        \n",
            "        Truncates x to the nearest Integral toward 0. Uses the __trunc__ magic method.\n",
            "\n",
            "DATA\n",
            "    e = 2.718281828459045\n",
            "    inf = inf\n",
            "    nan = nan\n",
            "    pi = 3.141592653589793\n",
            "    tau = 6.283185307179586\n",
            "\n",
            "FILE\n",
            "    (built-in)\n",
            "\n",
            "\n"
          ]
        }
      ],
      "execution_count": 13,
      "metadata": {
        "slideshow": {
          "slide_type": "subslide"
        }
      }
    },
    {
      "cell_type": "code",
      "source": [
        "dir(__builtin__)"
      ],
      "outputs": [
        {
          "output_type": "stream",
          "name": "stdout",
          "text": [
            "['ArithmeticError', 'AssertionError', 'AttributeError', 'BaseException', 'BlockingIOError', 'BrokenPipeError', 'BufferError', 'BytesWarning', 'ChildProcessError', 'ConnectionAbortedError', 'ConnectionError', 'ConnectionRefusedError', 'ConnectionResetError', 'DeprecationWarning', 'EOFError', 'Ellipsis', 'EnvironmentError', 'Exception', 'False', 'FileExistsError', 'FileNotFoundError', 'FloatingPointError', 'FutureWarning', 'GeneratorExit', 'IOError', 'ImportError', 'ImportWarning', 'IndentationError', 'IndexError', 'InterruptedError', 'IsADirectoryError', 'KeyError', 'KeyboardInterrupt', 'LookupError', 'MemoryError', 'ModuleNotFoundError', 'NameError', 'None', 'NotADirectoryError', 'NotImplemented', 'NotImplementedError', 'OSError', 'OverflowError', 'PendingDeprecationWarning', 'PermissionError', 'ProcessLookupError', 'RecursionError', 'ReferenceError', 'ResourceWarning', 'RuntimeError', 'RuntimeWarning', 'StopAsyncIteration', 'StopIteration', 'SyntaxError', 'SyntaxWarning', 'SystemError', 'SystemExit', 'TabError', 'TimeoutError', 'True', 'TypeError', 'UnboundLocalError', 'UnicodeDecodeError', 'UnicodeEncodeError', 'UnicodeError', 'UnicodeTranslateError', 'UnicodeWarning', 'UserWarning', 'ValueError', 'Warning', 'ZeroDivisionError', '__IPYTHON__', '__build_class__', '__debug__', '__doc__', '__import__', '__loader__', '__name__', '__package__', '__spec__', 'abs', 'all', 'any', 'ascii', 'bin', 'bool', 'bytearray', 'bytes', 'callable', 'chr', 'classmethod', 'compile', 'complex', 'copyright', 'credits', 'delattr', 'dict', 'dir', 'display', 'divmod', 'enumerate', 'eval', 'exec', 'filter', 'float', 'format', 'frozenset', 'get_ipython', 'getattr', 'globals', 'hasattr', 'hash', 'help', 'hex', 'id', 'input', 'int', 'isinstance', 'issubclass', 'iter', 'len', 'license', 'list', 'locals', 'map', 'max', 'memoryview', 'min', 'next', 'object', 'oct', 'open', 'ord', 'pow', 'print', 'property', 'range', 'repr', 'reversed', 'round', 'set', 'setattr', 'slice', 'sorted', 'staticmethod', 'str', 'sum', 'super', 'tuple', 'type', 'vars', 'zip']\n"
          ]
        }
      ],
      "execution_count": 15,
      "metadata": {
        "slideshow": {
          "slide_type": "slide"
        }
      }
    },
    {
      "cell_type": "markdown",
      "source": [
        "There are a number of functions and classes which don't need to be imported because they are in the built-in namespace. You can examine these in the Python docs or through the shell."
      ],
      "metadata": {
        "slideshow": {
          "slide_type": "notes"
        }
      }
    },
    {
      "cell_type": "markdown",
      "source": [
        "Original Notebook by [Mark Lavin](https://github.com/mlavin/lecture-notes)"
      ],
      "metadata": {
        "slideshow": {
          "slide_type": "slide"
        }
      }
    }
  ],
  "metadata": {
    "celltoolbar": "Slideshow",
    "kernelspec": {
      "display_name": "Python 3",
      "language": "python",
      "name": "python3"
    },
    "language_info": {
      "codemirror_mode": {
        "name": "ipython",
        "version": 3
      },
      "file_extension": ".py",
      "mimetype": "text/x-python",
      "name": "python",
      "nbconvert_exporter": "python",
      "pygments_lexer": "ipython3",
      "version": "3.6.4"
    },
    "nteract": {
      "version": "0.24.1"
    }
  },
  "nbformat": 4,
  "nbformat_minor": 2
}