{
  "cells": [
    {
      "cell_type": "markdown",
      "source": [
        "# Functional Tools in Python\n",
        "\n",
        "A brief introduction to Functional Programming in Python."
      ],
      "metadata": {
        "slideshow": {
          "slide_type": "slide"
        }
      }
    },
    {
      "cell_type": "markdown",
      "source": [
        "# What is Functional Programming?\n",
        "\n",
        "From (Wikipedia)[https://en.wikipedia.org/wiki/Functional_programming]:\n",
        "\n",
        "> ...Functional programming is a programming paradigm that treats computation as the evaluation of mathematical functions and avoids state and mutable data...Eliminating side effects, i.e., changes in state that do not depend on the function inputs, can make it much easier to understand and predict the behavior of a program, which is one of the key motivations for the development of functional programming."
      ],
      "metadata": {
        "slideshow": {
          "slide_type": "slide"
        }
      }
    },
    {
      "cell_type": "markdown",
      "source": [
        "# What are Some Functional Languages?\n",
        "\n",
        "Popular functional programming languages:\n",
        "\n",
        "- Scheme\n",
        "- Erlang\n",
        "- OCaml\n",
        "- Haskell\n",
        "- F#\n",
        "- Clojure\n",
        "- R"
      ],
      "metadata": {
        "slideshow": {
          "slide_type": "slide"
        }
      }
    },
    {
      "cell_type": "markdown",
      "source": [
        "# Disclaimer"
      ],
      "metadata": {
        "slideshow": {
          "slide_type": "slide"
        }
      }
    },
    {
      "cell_type": "markdown",
      "source": [
        "Disclaimer\n",
        "I do not claim to be a master of functional programming nor is this meant to be a lesson on functional programming. This is meant to be a look into Python features which are related to or insipred by functional programming. While these concepts are handy for all Python programmers and will carry into other functional languages, this is not meant to imply that Python is a great functional language.\n",
        "\n",
        "You'll notice Python is not listed as a popular functional langages. Python has functional tools and idioms but is not a purely functional language. If you find think interesting I suggest you consider looking into one of the previously listed functional languages."
      ],
      "metadata": {
        "slideshow": {
          "slide_type": "notes"
        }
      }
    },
    {
      "cell_type": "markdown",
      "source": [
        "# Who Cares?\n",
        "\n",
        "Testing and debugging functional programs tend to be easier. There is no global state and the program is a sequence of function calls. Functions tend to be small and compartmentalized. Each function can be tested individually. Debugging involves checking the input and output of each function call.\n",
        "\n",
        "Functional programming/languages have been growing in popularity in industry and knowing these languages/concepts makes for a rare marketable skill.\n",
        "\n",
        "Also it's fun."
      ],
      "metadata": {
        "slideshow": {
          "slide_type": "slide"
        }
      }
    },
    {
      "cell_type": "markdown",
      "source": [
        "# Some Notes on Function Parameters\n",
        "\n",
        "There was a mention about not passing an empty list as a default argument. This is not only true of lists but any mutable type such as a set or a dictionary.\n",
        "\n",
        "This is because the function defaults are evaluated when the function is defined. If the default type is mutable then it can be changed on subsequent function calls."
      ],
      "metadata": {
        "slideshow": {
          "slide_type": "slide"
        }
      }
    },
    {
      "cell_type": "code",
      "source": [
        "def simple(x, y=[]):\n",
        "    y.append(x)\n",
        "    return y"
      ],
      "outputs": [],
      "execution_count": 10,
      "metadata": {
        "slideshow": {
          "slide_type": "slide"
        }
      }
    },
    {
      "cell_type": "code",
      "source": [
        "simple.__defaults__"
      ],
      "outputs": [
        {
          "output_type": "execute_result",
          "execution_count": 11,
          "data": {
            "text/plain": "([],)"
          },
          "metadata": {}
        }
      ],
      "execution_count": 11,
      "metadata": {
        "slideshow": {
          "slide_type": "fragment"
        }
      }
    },
    {
      "cell_type": "code",
      "source": [
        "simple(1)"
      ],
      "outputs": [
        {
          "output_type": "execute_result",
          "execution_count": 12,
          "data": {
            "text/plain": "[1]"
          },
          "metadata": {}
        }
      ],
      "execution_count": 12,
      "metadata": {
        "slideshow": {
          "slide_type": "fragment"
        }
      }
    },
    {
      "cell_type": "code",
      "source": [
        "simple(2)"
      ],
      "outputs": [
        {
          "output_type": "execute_result",
          "execution_count": 13,
          "data": {
            "text/plain": "[1, 2]"
          },
          "metadata": {}
        }
      ],
      "execution_count": 13,
      "metadata": {
        "slideshow": {
          "slide_type": "fragment"
        }
      }
    },
    {
      "cell_type": "code",
      "source": [
        "\n",
        "simple.__defaults__"
      ],
      "outputs": [
        {
          "output_type": "execute_result",
          "execution_count": 14,
          "data": {
            "text/plain": "([1, 2],)"
          },
          "metadata": {}
        }
      ],
      "execution_count": 14,
      "metadata": {
        "slideshow": {
          "slide_type": "fragment"
        }
      }
    },
    {
      "cell_type": "markdown",
      "source": [
        "# Getting Rid of Logical Blocks\n",
        "\n",
        "Small logical blocks can often be removed by making use of Python short circuiting logical statements."
      ],
      "metadata": {
        "slideshow": {
          "slide_type": "slide"
        }
      }
    },
    {
      "cell_type": "code",
      "source": [
        "x = 2\n",
        "x_place = 'did not place'\n",
        "if x == 1:\n",
        "    x_place = 'first'\n",
        "elif x == 2:\n",
        "    x_place = 'second'\n",
        "x_place"
      ],
      "outputs": [
        {
          "output_type": "execute_result",
          "execution_count": 15,
          "data": {
            "text/plain": "'second'"
          },
          "metadata": {}
        }
      ],
      "execution_count": 15,
      "metadata": {
        "slideshow": {
          "slide_type": "-"
        }
      }
    },
    {
      "cell_type": "code",
      "source": [
        "x = 2\n",
        "(x == 1 and 'first') or (x == 2 and 'second') or 'did not place'"
      ],
      "outputs": [
        {
          "output_type": "execute_result",
          "execution_count": 16,
          "data": {
            "text/plain": "'second'"
          },
          "metadata": {}
        }
      ],
      "execution_count": 16,
      "metadata": {
        "slideshow": {
          "slide_type": "fragment"
        }
      }
    },
    {
      "cell_type": "markdown",
      "source": [
        "# Using Short Circuit For Good\n",
        "\n",
        "One of the best uses of this logical evaluation is handling default arguments that you want to be mutable types such as lists or dictionaries."
      ],
      "metadata": {
        "slideshow": {
          "slide_type": "slide"
        }
      }
    },
    {
      "cell_type": "code",
      "source": [
        "def simple(x=None):\n",
        "    x = x or {}\n",
        "    # Do some more work"
      ],
      "outputs": [],
      "execution_count": 17,
      "metadata": {}
    },
    {
      "cell_type": "markdown",
      "source": [
        "# Getting Rid of Loops\n",
        "\n",
        "List comprehensions allow you to build loops in place. Simple loops can be removed with list comprehensions. Now Python supports dictionary and set comprehensions as well."
      ],
      "metadata": {
        "slideshow": {
          "slide_type": "slide"
        }
      }
    },
    {
      "cell_type": "code",
      "source": [
        "mix = [1, 'a', 'b', 2, 4]\n",
        "letters = []\n",
        "for x in mix:\n",
        "    if isinstance(mix, str):\n",
        "        letters.append(x)\n",
        "letters"
      ],
      "outputs": [
        {
          "output_type": "execute_result",
          "execution_count": 18,
          "data": {
            "text/plain": "[]"
          },
          "metadata": {}
        }
      ],
      "execution_count": 18,
      "metadata": {}
    },
    {
      "cell_type": "code",
      "source": [
        "[x for x in mix if isinstance(x, str)]"
      ],
      "outputs": [
        {
          "output_type": "execute_result",
          "execution_count": 19,
          "data": {
            "text/plain": "['a', 'b']"
          },
          "metadata": {}
        }
      ],
      "execution_count": 19,
      "metadata": {
        "slideshow": {
          "slide_type": "fragment"
        }
      }
    },
    {
      "cell_type": "code",
      "source": [
        "def identity(n):\n",
        "    return [[1 if i == j else 0 for i in range(n)] for j in range(n)]\n",
        "\n",
        "identity(3)"
      ],
      "outputs": [
        {
          "output_type": "execute_result",
          "execution_count": 20,
          "data": {
            "text/plain": "[[1, 0, 0], [0, 1, 0], [0, 0, 1]]"
          },
          "metadata": {}
        }
      ],
      "execution_count": 20,
      "metadata": {
        "slideshow": {
          "slide_type": "slide"
        }
      }
    },
    {
      "cell_type": "code",
      "source": [
        "[(i, j) for i in range(3) for j in range(3)]"
      ],
      "outputs": [
        {
          "output_type": "execute_result",
          "execution_count": 21,
          "data": {
            "text/plain": "[(0, 0), (0, 1), (0, 2), (1, 0), (1, 1), (1, 2), (2, 0), (2, 1), (2, 2)]"
          },
          "metadata": {}
        }
      ],
      "execution_count": 21,
      "metadata": {
        "slideshow": {
          "slide_type": "fragment"
        }
      }
    },
    {
      "cell_type": "markdown",
      "source": [
        "# Anonymous Functions\n",
        "\n",
        "So far we have always defined functions using the `def` keyword. You can also define anonymous (unnamed) functions with `lambda`."
      ],
      "metadata": {
        "slideshow": {
          "slide_type": "slide"
        }
      }
    },
    {
      "cell_type": "code",
      "source": [
        "f = lambda x: x * x # Create a new function and assign to f\n",
        "f.__class__"
      ],
      "outputs": [
        {
          "output_type": "execute_result",
          "execution_count": 22,
          "data": {
            "text/plain": "function"
          },
          "metadata": {}
        }
      ],
      "execution_count": 22,
      "metadata": {}
    },
    {
      "cell_type": "code",
      "source": [
        "f(2)"
      ],
      "outputs": [
        {
          "output_type": "execute_result",
          "execution_count": 23,
          "data": {
            "text/plain": "4"
          },
          "metadata": {}
        }
      ],
      "execution_count": 23,
      "metadata": {
        "slideshow": {
          "slide_type": "fragment"
        }
      }
    },
    {
      "cell_type": "markdown",
      "source": [
        "# More List Filtering\n",
        "\n",
        "You can also use the `filter` function. The first argument is the function to be used for the filtering. This could be a defined function or a lambda. The second argument is the iterable. It returns the filtered list."
      ],
      "metadata": {
        "slideshow": {
          "slide_type": "slide"
        }
      }
    },
    {
      "cell_type": "code",
      "source": [
        "mix = [1, 'a', 'b', 2, 4]\n",
        "letters = filter(lambda x: isinstance(x, str), mix)\n",
        "letters"
      ],
      "outputs": [
        {
          "output_type": "execute_result",
          "execution_count": 24,
          "data": {
            "text/plain": "<filter at 0x7f2d50c50f60>"
          },
          "metadata": {}
        }
      ],
      "execution_count": 24,
      "metadata": {}
    },
    {
      "cell_type": "code",
      "source": [
        "list(letters)"
      ],
      "outputs": [
        {
          "output_type": "execute_result",
          "execution_count": 25,
          "data": {
            "text/plain": "['a', 'b']"
          },
          "metadata": {}
        }
      ],
      "execution_count": 25,
      "metadata": {
        "slideshow": {
          "slide_type": "fragment"
        }
      }
    },
    {
      "cell_type": "markdown",
      "source": [
        "# Getting Rid of More Loops\n",
        "\n",
        "List filtering isn't the only type of lists you can remove. The `reduce` function applies a binary function in sequence to an iterable."
      ],
      "metadata": {
        "slideshow": {
          "slide_type": "slide"
        }
      }
    },
    {
      "cell_type": "code",
      "source": [
        "import functools\n",
        "# This is equivalent to ((1 + 2) + 3) + 4)\n",
        "functools.reduce(lambda x, y: x + y, [1, 2, 3, 4])"
      ],
      "outputs": [
        {
          "output_type": "execute_result",
          "execution_count": 26,
          "data": {
            "text/plain": "10"
          },
          "metadata": {}
        }
      ],
      "execution_count": 26,
      "metadata": {}
    },
    {
      "cell_type": "code",
      "source": [
        "# This is equivalent to ((1 * 2) * 3) * 4) or 4!\n",
        "functools.reduce(lambda x, y: x * y, [1, 2, 3, 4])"
      ],
      "outputs": [
        {
          "output_type": "execute_result",
          "execution_count": 27,
          "data": {
            "text/plain": "24"
          },
          "metadata": {}
        }
      ],
      "execution_count": 27,
      "metadata": {
        "slideshow": {
          "slide_type": "fragment"
        }
      }
    },
    {
      "cell_type": "markdown",
      "source": [
        "# Map\n",
        "\n",
        "`map` applies a function to each item in an iterable and returns a list of the results."
      ],
      "metadata": {
        "slideshow": {
          "slide_type": "slide"
        }
      }
    },
    {
      "cell_type": "code",
      "source": [
        "# Create list of the first four squares\n",
        "squares = []\n",
        "for x in [1, 2, 3, 4]:\n",
        "    squares.append(x**2)\n",
        "squares"
      ],
      "outputs": [
        {
          "output_type": "execute_result",
          "execution_count": 28,
          "data": {
            "text/plain": "[1, 4, 9, 16]"
          },
          "metadata": {}
        }
      ],
      "execution_count": 28,
      "metadata": {}
    },
    {
      "cell_type": "code",
      "source": [
        "# Becomes\n",
        "squares = map(lambda x: x**2, [1, 2, 3, 4])"
      ],
      "outputs": [],
      "execution_count": 29,
      "metadata": {
        "slideshow": {
          "slide_type": "fragment"
        }
      }
    },
    {
      "cell_type": "code",
      "source": [
        "squares"
      ],
      "outputs": [
        {
          "output_type": "execute_result",
          "execution_count": 30,
          "data": {
            "text/plain": "<map at 0x7f2d50c524e0>"
          },
          "metadata": {}
        }
      ],
      "execution_count": 30,
      "metadata": {
        "slideshow": {
          "slide_type": "fragment"
        }
      }
    },
    {
      "cell_type": "code",
      "source": [
        "list(squares)"
      ],
      "outputs": [
        {
          "output_type": "execute_result",
          "execution_count": 31,
          "data": {
            "text/plain": "[1, 4, 9, 16]"
          },
          "metadata": {}
        }
      ],
      "execution_count": 31,
      "metadata": {
        "slideshow": {
          "slide_type": "fragment"
        }
      }
    },
    {
      "cell_type": "code",
      "source": [
        "text = '1,0,0;0,1,0;0,0,1'\n",
        "rows = text.split(';')\n",
        "matrix = []\n",
        "for row in rows:\n",
        "    matrix.append([float(x) for x in row.split(',')])\n",
        "matrix"
      ],
      "outputs": [
        {
          "output_type": "execute_result",
          "execution_count": 32,
          "data": {
            "text/plain": "[[1.0, 0.0, 0.0], [0.0, 1.0, 0.0], [0.0, 0.0, 1.0]]"
          },
          "metadata": {}
        }
      ],
      "execution_count": 32,
      "metadata": {
        "slideshow": {
          "slide_type": "slide"
        }
      }
    },
    {
      "cell_type": "code",
      "source": [
        "matrix = map(lambda x: map(float, x.split(',')), text.split(';'))"
      ],
      "outputs": [],
      "execution_count": 33,
      "metadata": {
        "slideshow": {
          "slide_type": "fragment"
        }
      }
    },
    {
      "cell_type": "markdown",
      "source": [
        "# Sorting Lists\n",
        "\n",
        "The built-in `list` type has a `sort` method which sorts the list in place. `sort` can also take a `key` parameter which is a function which takes one parameter returns the value which will be used for the sorting. Passing `reverse=True` will reverse the sort order."
      ],
      "metadata": {
        "slideshow": {
          "slide_type": "slide"
        }
      }
    },
    {
      "cell_type": "code",
      "source": [
        "test = [3, 4, 5, 1, 2]\n",
        "test.sort()\n",
        "test"
      ],
      "outputs": [
        {
          "output_type": "execute_result",
          "execution_count": 34,
          "data": {
            "text/plain": "[1, 2, 3, 4, 5]"
          },
          "metadata": {}
        }
      ],
      "execution_count": 34,
      "metadata": {}
    },
    {
      "cell_type": "code",
      "source": [
        "test = [3, 4, 5, 1, 2]\n",
        "test.sort(key=lambda x: x % 3)\n",
        "test"
      ],
      "outputs": [
        {
          "output_type": "execute_result",
          "execution_count": 35,
          "data": {
            "text/plain": "[3, 4, 1, 5, 2]"
          },
          "metadata": {}
        }
      ],
      "execution_count": 35,
      "metadata": {
        "slideshow": {
          "slide_type": "fragment"
        }
      }
    },
    {
      "cell_type": "code",
      "source": [
        "test = ['C', 'a', 'd', 'B', 'E']\n",
        "test.sort()\n",
        "test # Default alpha sort"
      ],
      "outputs": [
        {
          "output_type": "execute_result",
          "execution_count": 36,
          "data": {
            "text/plain": "['B', 'C', 'E', 'a', 'd']"
          },
          "metadata": {}
        }
      ],
      "execution_count": 36,
      "metadata": {
        "slideshow": {
          "slide_type": "slide"
        }
      }
    },
    {
      "cell_type": "code",
      "source": [
        "test.sort(key=str.lower)\n",
        "test # Case insensitive alpha sort"
      ],
      "outputs": [
        {
          "output_type": "execute_result",
          "execution_count": 37,
          "data": {
            "text/plain": "['a', 'B', 'C', 'd', 'E']"
          },
          "metadata": {}
        }
      ],
      "execution_count": 37,
      "metadata": {
        "slideshow": {
          "slide_type": "fragment"
        }
      }
    },
    {
      "cell_type": "code",
      "source": [
        "test = [(1, 2), (5, 3), (7, 1), (3, 8)]\n",
        "test.sort(key=lambda x: x[1])\n",
        "test # Sort by second entry"
      ],
      "outputs": [
        {
          "output_type": "execute_result",
          "execution_count": 38,
          "data": {
            "text/plain": "[(7, 1), (1, 2), (5, 3), (3, 8)]"
          },
          "metadata": {}
        }
      ],
      "execution_count": 38,
      "metadata": {
        "slideshow": {
          "slide_type": "fragment"
        }
      }
    },
    {
      "cell_type": "markdown",
      "source": [
        "# Sorting Iterables\n",
        "\n",
        "`list.sort `is great but what if you need to sort things that are iterables but not lists. For that you can use the built-in `sorted` function. The first argument is an iterable and the remaining arguments are the same as sort. Unlike `sort` which returns `None`, `sorted` returns the sorted items as a list."
      ],
      "metadata": {
        "slideshow": {
          "slide_type": "slide"
        }
      }
    },
    {
      "cell_type": "code",
      "source": [
        "sorted((8, 6, 7, 5, 3, 0, 9))"
      ],
      "outputs": [
        {
          "output_type": "execute_result",
          "execution_count": 39,
          "data": {
            "text/plain": "[0, 3, 5, 6, 7, 8, 9]"
          },
          "metadata": {}
        }
      ],
      "execution_count": 39,
      "metadata": {}
    },
    {
      "cell_type": "code",
      "source": [
        "sorted('jenny')"
      ],
      "outputs": [
        {
          "output_type": "execute_result",
          "execution_count": 40,
          "data": {
            "text/plain": "['e', 'j', 'n', 'n', 'y']"
          },
          "metadata": {}
        }
      ],
      "execution_count": 40,
      "metadata": {
        "slideshow": {
          "slide_type": "fragment"
        }
      }
    },
    {
      "cell_type": "code",
      "source": [
        "sorted({'got': 'your number', 'need': 'make you mine'})"
      ],
      "outputs": [
        {
          "output_type": "execute_result",
          "execution_count": 41,
          "data": {
            "text/plain": "['got', 'need']"
          },
          "metadata": {}
        }
      ],
      "execution_count": 41,
      "metadata": {
        "slideshow": {
          "slide_type": "fragment"
        }
      }
    },
    {
      "cell_type": "markdown",
      "source": [
        "# Common Key Functions\n",
        "\n",
        "There are some common key functions:\n",
        "\n",
        "- Sorting a list of tuples (or nested list) by a given index\n",
        "- Sorting by an attribute\n",
        "- Sorting by a method\n",
        "\n",
        "While it isn't difficult to write these functions you can instead use the `operator` module."
      ],
      "metadata": {
        "slideshow": {
          "slide_type": "slide"
        }
      }
    },
    {
      "cell_type": "code",
      "source": [
        "from operator import itemgetter, attrgetter, methodcaller\n",
        "\n",
        "test = [(1, 2), (5, 3), (7, 1), (3, 8)]\n",
        "sorted(test, key=itemgetter(1))"
      ],
      "outputs": [
        {
          "output_type": "execute_result",
          "execution_count": 42,
          "data": {
            "text/plain": "[(7, 1), (1, 2), (5, 3), (3, 8)]"
          },
          "metadata": {}
        }
      ],
      "execution_count": 42,
      "metadata": {
        "slideshow": {
          "slide_type": "slide"
        }
      }
    },
    {
      "cell_type": "code",
      "source": [
        "test = ['C', 'a', 'd', 'B', 'E']\n",
        "sorted(test, key=methodcaller('lower'))"
      ],
      "outputs": [
        {
          "output_type": "execute_result",
          "execution_count": 43,
          "data": {
            "text/plain": "['a', 'B', 'C', 'd', 'E']"
          },
          "metadata": {}
        }
      ],
      "execution_count": 43,
      "metadata": {
        "slideshow": {
          "slide_type": "fragment"
        }
      }
    },
    {
      "cell_type": "code",
      "source": [
        "test = [1 +  1j, 2 - 1j, -1 + 2j]\n",
        "sorted(test, key=attrgetter('real'))"
      ],
      "outputs": [
        {
          "output_type": "execute_result",
          "execution_count": 44,
          "data": {
            "text/plain": "[(-1+2j), (1+1j), (2-1j)]"
          },
          "metadata": {}
        }
      ],
      "execution_count": 44,
      "metadata": {
        "slideshow": {
          "slide_type": "fragment"
        }
      }
    },
    {
      "cell_type": "markdown",
      "source": [
        "# `itertools` Module\n",
        "\n",
        "The `itertools` module defines functions for commonly used iterators.\n",
        "\n",
        "- Lists of integers\n",
        "- Cycles of sequences\n",
        "- Chains of iterators\n",
        "- Permutaions of a sequence\n",
        "- Combinations of a sequence"
      ],
      "metadata": {
        "slideshow": {
          "slide_type": "slide"
        }
      }
    },
    {
      "cell_type": "code",
      "source": [
        "from itertools import chain, takewhile, dropwhile\n",
        "from itertools import combinations, permutations\n",
        "\n",
        "a = [1, 2, 3]\n",
        "b = 'abc'\n",
        "[(x, type(x)) for x in chain(a, b)]"
      ],
      "outputs": [
        {
          "output_type": "execute_result",
          "execution_count": 45,
          "data": {
            "text/plain": "[(1, int), (2, int), (3, int), ('a', str), ('b', str), ('c', str)]"
          },
          "metadata": {}
        }
      ],
      "execution_count": 45,
      "metadata": {
        "slideshow": {
          "slide_type": "slide"
        }
      }
    },
    {
      "cell_type": "code",
      "source": [
        "[u''.join(x) for x in combinations(b, 2)]"
      ],
      "outputs": [
        {
          "output_type": "execute_result",
          "execution_count": 46,
          "data": {
            "text/plain": "['ab', 'ac', 'bc']"
          },
          "metadata": {}
        }
      ],
      "execution_count": 46,
      "metadata": {
        "slideshow": {
          "slide_type": "fragment"
        }
      }
    },
    {
      "cell_type": "code",
      "source": [
        "[u''.join(x) for x in permutations(b, 2)]"
      ],
      "outputs": [
        {
          "output_type": "execute_result",
          "execution_count": 47,
          "data": {
            "text/plain": "['ab', 'ac', 'ba', 'bc', 'ca', 'cb']"
          },
          "metadata": {}
        }
      ],
      "execution_count": 47,
      "metadata": {
        "slideshow": {
          "slide_type": "fragment"
        }
      }
    },
    {
      "cell_type": "code",
      "source": [
        "list(takewhile(lambda x: x % 2 == 1, a))"
      ],
      "outputs": [
        {
          "output_type": "execute_result",
          "execution_count": 48,
          "data": {
            "text/plain": "[1]"
          },
          "metadata": {}
        }
      ],
      "execution_count": 48,
      "metadata": {
        "slideshow": {
          "slide_type": "fragment"
        }
      }
    },
    {
      "cell_type": "code",
      "source": [
        "list(dropwhile(lambda x: x in 'aeiou', b))"
      ],
      "outputs": [
        {
          "output_type": "execute_result",
          "execution_count": 49,
          "data": {
            "text/plain": "['b', 'c']"
          },
          "metadata": {}
        }
      ],
      "execution_count": 49,
      "metadata": {
        "slideshow": {
          "slide_type": "fragment"
        }
      }
    },
    {
      "cell_type": "markdown",
      "source": [
        "# Closures\n",
        "\n",
        "Closures are combination of a function and an environment. They are named closures because they are said to \"close over\" free variables that are passed when defining the closure.\n",
        "\n",
        "Since I'm sure none of that made any sense let's look at some examples."
      ],
      "metadata": {
        "slideshow": {
          "slide_type": "slide"
        }
      }
    },
    {
      "cell_type": "code",
      "source": [
        "def greater_than_bound(bound):\n",
        "    def greater(x):\n",
        "        return x > bound\n",
        "    return greater\n",
        "\n",
        "greater_than_ten = greater_than_bound(10)\n",
        "greater_than_ten(20)"
      ],
      "outputs": [
        {
          "output_type": "execute_result",
          "execution_count": 50,
          "data": {
            "text/plain": "True"
          },
          "metadata": {}
        }
      ],
      "execution_count": 50,
      "metadata": {
        "slideshow": {
          "slide_type": "slide"
        }
      }
    },
    {
      "cell_type": "code",
      "source": [
        "greater_than_ten(2)"
      ],
      "outputs": [
        {
          "output_type": "execute_result",
          "execution_count": 51,
          "data": {
            "text/plain": "False"
          },
          "metadata": {}
        }
      ],
      "execution_count": 51,
      "metadata": {
        "slideshow": {
          "slide_type": "fragment"
        }
      }
    },
    {
      "cell_type": "markdown",
      "source": [
        "# Why Closures?\n",
        "\n",
        "Why in the world would you want to do this? Somethings are just too complicated for lambda. lambda expressions cannot contain if, for or while statements. Though, as we have seen, many of these statements can be replaced."
      ],
      "metadata": {
        "slideshow": {
          "slide_type": "slide"
        }
      }
    },
    {
      "cell_type": "markdown",
      "source": [
        "Original Notebook by [Mark Lavin](https://github.com/mlavin/lecture-notes)"
      ],
      "metadata": {}
    }
  ],
  "metadata": {
    "celltoolbar": "Slideshow",
    "kernelspec": {
      "display_name": "Python 3",
      "language": "python",
      "name": "python3"
    },
    "language_info": {
      "codemirror_mode": {
        "name": "ipython",
        "version": 3
      },
      "file_extension": ".py",
      "mimetype": "text/x-python",
      "name": "python",
      "nbconvert_exporter": "python",
      "pygments_lexer": "ipython3",
      "version": "3.6.4"
    },
    "nteract": {
      "version": "0.24.1"
    }
  },
  "nbformat": 4,
  "nbformat_minor": 2
}