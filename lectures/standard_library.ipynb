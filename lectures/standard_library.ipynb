{
  "cells": [
    {
      "cell_type": "markdown",
      "source": [
        "# Tour of the Python Standard Library\n",
        "\n",
        "- `random`\n",
        "- `datetime`\n",
        "- `urllib`\n",
        "- `glob`\n",
        "- `re`\n",
        "- `logging`\n",
        "- `timeit`\n",
        "- `unittest`"
      ],
      "metadata": {
        "slideshow": {
          "slide_type": "slide"
        }
      }
    },
    {
      "cell_type": "markdown",
      "source": [
        "# What is the Standard Library?\n",
        "\n",
        "Python has a “batteries included” philosophy meaning the language library ships with a number of robust modules. Today we're going to look a few of them.\n",
        "\n",
        "Being a good Python programmer isn't about being able to write any program in Python. It's also about knowing which things to write and which things are already written, much like being a good mathematician."
      ],
      "metadata": {
        "slideshow": {
          "slide_type": "slide"
        }
      }
    },
    {
      "cell_type": "markdown",
      "source": [
        "# Modules We've Already Seen/Discussed\n",
        "\n",
        "- `math`/`cmath`\n",
        "- `sys`/`os`/`pathlib`\n",
        "- `xml`/`csv`/`json`\n",
        "- `itertools`/`functools`/`contexlib`"
      ],
      "metadata": {
        "slideshow": {
          "slide_type": "slide"
        }
      }
    },
    {
      "cell_type": "markdown",
      "source": [
        "# `random`\n",
        "The `random` module contains classes and functions for generating random data of various types and distributions."
      ],
      "metadata": {
        "slideshow": {
          "slide_type": "slide"
        }
      }
    },
    {
      "cell_type": "code",
      "source": [
        "import random\n",
        "\n",
        "random.random() # Random float from [0.0, 1.0)"
      ],
      "outputs": [
        {
          "output_type": "execute_result",
          "execution_count": 1,
          "data": {
            "text/plain": "0.9461393931961889"
          },
          "metadata": {}
        }
      ],
      "execution_count": 1,
      "metadata": {}
    },
    {
      "cell_type": "code",
      "source": [
        "random.randint(1, 10)  # Random integer from [1, 10]"
      ],
      "outputs": [
        {
          "output_type": "execute_result",
          "execution_count": 2,
          "data": {
            "text/plain": "8"
          },
          "metadata": {}
        }
      ],
      "execution_count": 2,
      "metadata": {
        "slideshow": {
          "slide_type": "fragment"
        }
      }
    },
    {
      "cell_type": "code",
      "source": [
        "random.uniform(3, 5) # Uniform float from [3, 5]"
      ],
      "outputs": [
        {
          "output_type": "execute_result",
          "execution_count": 3,
          "data": {
            "text/plain": "4.93753632999579"
          },
          "metadata": {}
        }
      ],
      "execution_count": 3,
      "metadata": {
        "slideshow": {
          "slide_type": "fragment"
        }
      }
    },
    {
      "cell_type": "code",
      "source": [
        "# Randomly selected item from the given list/iterable\n",
        "random.choice(['a', 'b', 'c'])"
      ],
      "outputs": [
        {
          "output_type": "execute_result",
          "execution_count": 4,
          "data": {
            "text/plain": "'c'"
          },
          "metadata": {}
        }
      ],
      "execution_count": 4,
      "metadata": {
        "slideshow": {
          "slide_type": "fragment"
        }
      }
    },
    {
      "cell_type": "markdown",
      "source": [
        "# `datetime`\n",
        "The `datetime` module defines `datetime`, `date`, `time`, and `timedelta` types for handling date arithmetic and date comparison. Note all of these types are immutable."
      ],
      "metadata": {
        "slideshow": {
          "slide_type": "slide"
        }
      }
    },
    {
      "cell_type": "code",
      "source": [
        "import datetime\n",
        "\n",
        "today = datetime.date.today()\n",
        "tomorrow = today + datetime.timedelta(days=1)\n",
        "if today < tomorrow:\n",
        "    print(today.isoformat())"
      ],
      "outputs": [
        {
          "output_type": "stream",
          "name": "stdout",
          "text": [
            "2018-04-15\n"
          ]
        }
      ],
      "execution_count": 5,
      "metadata": {}
    },
    {
      "cell_type": "markdown",
      "source": [
        "# Date Formatting\n",
        "\n",
        "These objects have a `strftime` method which allows you to represent the date/time in various formats. All allowable formatting directives can be found here: http://docs.python.org/library/datetime.html#strftime-strptime-behavior"
      ],
      "metadata": {
        "slideshow": {
          "slide_type": "slide"
        }
      }
    },
    {
      "cell_type": "code",
      "source": [
        "import datetime\n",
        "\n",
        "today = datetime.date.today()\n",
        "now = datetime.datetime.now()\n",
        "today.strftime('%a %B %d, %Y')"
      ],
      "outputs": [
        {
          "output_type": "execute_result",
          "execution_count": 6,
          "data": {
            "text/plain": "'Sun April 15, 2018'"
          },
          "metadata": {}
        }
      ],
      "execution_count": 6,
      "metadata": {}
    },
    {
      "cell_type": "code",
      "source": [
        "now.strftime('%m-%d-%y %I:%M %p')"
      ],
      "outputs": [
        {
          "output_type": "execute_result",
          "execution_count": 7,
          "data": {
            "text/plain": "'04-15-18 10:47 AM'"
          },
          "metadata": {}
        }
      ],
      "execution_count": 7,
      "metadata": {}
    },
    {
      "cell_type": "markdown",
      "source": [
        "As long as you work in Python you will never remember these directives. You will almost always have to look them up."
      ],
      "metadata": {
        "slideshow": {
          "slide_type": "notes"
        }
      }
    },
    {
      "cell_type": "markdown",
      "source": [
        "# Date Parsing\n",
        "The `datetime.strptime` function takes a string representing a date and another string representing the format and returns a `datetime` object if it can be found."
      ],
      "metadata": {
        "slideshow": {
          "slide_type": "slide"
        }
      }
    },
    {
      "cell_type": "code",
      "source": [
        "import datetime\n",
        "\n",
        "a = datetime.datetime.strptime('02-26-02','%m-%d-%y')\n",
        "type(a)"
      ],
      "outputs": [
        {
          "output_type": "execute_result",
          "execution_count": 8,
          "data": {
            "text/plain": "datetime.datetime"
          },
          "metadata": {}
        }
      ],
      "execution_count": 8,
      "metadata": {}
    },
    {
      "cell_type": "code",
      "source": [
        "a.date()"
      ],
      "outputs": [
        {
          "output_type": "execute_result",
          "execution_count": 9,
          "data": {
            "text/plain": "datetime.date(2002, 2, 26)"
          },
          "metadata": {}
        }
      ],
      "execution_count": 9,
      "metadata": {
        "slideshow": {
          "slide_type": "fragment"
        }
      }
    },
    {
      "cell_type": "code",
      "source": [
        "# Raises a ValueError if format that doesn't match\n",
        "a = datetime.datetime.strptime('02-26-02','%d/%m/%Y')"
      ],
      "outputs": [
        {
          "output_type": "error",
          "ename": "ValueError",
          "evalue": "time data '02-26-02' does not match format '%d/%m/%Y'",
          "traceback": [
            "\u001b[0;31m---------------------------------------------------------------------------\u001b[0m",
            "\u001b[0;31mValueError\u001b[0m                                Traceback (most recent call last)",
            "\u001b[0;32m<ipython-input-10-3fab116d6009>\u001b[0m in \u001b[0;36m<module>\u001b[0;34m()\u001b[0m\n\u001b[1;32m      1\u001b[0m \u001b[0;31m# Raises a ValueError if format that doesn't match\u001b[0m\u001b[0;34m\u001b[0m\u001b[0;34m\u001b[0m\u001b[0m\n\u001b[0;32m----> 2\u001b[0;31m \u001b[0ma\u001b[0m \u001b[0;34m=\u001b[0m \u001b[0mdatetime\u001b[0m\u001b[0;34m.\u001b[0m\u001b[0mdatetime\u001b[0m\u001b[0;34m.\u001b[0m\u001b[0mstrptime\u001b[0m\u001b[0;34m(\u001b[0m\u001b[0;34m'02-26-02'\u001b[0m\u001b[0;34m,\u001b[0m\u001b[0;34m'%d/%m/%Y'\u001b[0m\u001b[0;34m)\u001b[0m\u001b[0;34m\u001b[0m\u001b[0m\n\u001b[0m",
            "\u001b[0;32m/usr/lib/python3.6/_strptime.py\u001b[0m in \u001b[0;36m_strptime_datetime\u001b[0;34m(cls, data_string, format)\u001b[0m\n\u001b[1;32m    563\u001b[0m     \"\"\"Return a class cls instance based on the input string and the\n\u001b[1;32m    564\u001b[0m     format string.\"\"\"\n\u001b[0;32m--> 565\u001b[0;31m     \u001b[0mtt\u001b[0m\u001b[0;34m,\u001b[0m \u001b[0mfraction\u001b[0m \u001b[0;34m=\u001b[0m \u001b[0m_strptime\u001b[0m\u001b[0;34m(\u001b[0m\u001b[0mdata_string\u001b[0m\u001b[0;34m,\u001b[0m \u001b[0mformat\u001b[0m\u001b[0;34m)\u001b[0m\u001b[0;34m\u001b[0m\u001b[0m\n\u001b[0m\u001b[1;32m    566\u001b[0m     \u001b[0mtzname\u001b[0m\u001b[0;34m,\u001b[0m \u001b[0mgmtoff\u001b[0m \u001b[0;34m=\u001b[0m \u001b[0mtt\u001b[0m\u001b[0;34m[\u001b[0m\u001b[0;34m-\u001b[0m\u001b[0;36m2\u001b[0m\u001b[0;34m:\u001b[0m\u001b[0;34m]\u001b[0m\u001b[0;34m\u001b[0m\u001b[0m\n\u001b[1;32m    567\u001b[0m     \u001b[0margs\u001b[0m \u001b[0;34m=\u001b[0m \u001b[0mtt\u001b[0m\u001b[0;34m[\u001b[0m\u001b[0;34m:\u001b[0m\u001b[0;36m6\u001b[0m\u001b[0;34m]\u001b[0m \u001b[0;34m+\u001b[0m \u001b[0;34m(\u001b[0m\u001b[0mfraction\u001b[0m\u001b[0;34m,\u001b[0m\u001b[0;34m)\u001b[0m\u001b[0;34m\u001b[0m\u001b[0m\n",
            "\u001b[0;32m/usr/lib/python3.6/_strptime.py\u001b[0m in \u001b[0;36m_strptime\u001b[0;34m(data_string, format)\u001b[0m\n\u001b[1;32m    360\u001b[0m     \u001b[0;32mif\u001b[0m \u001b[0;32mnot\u001b[0m \u001b[0mfound\u001b[0m\u001b[0;34m:\u001b[0m\u001b[0;34m\u001b[0m\u001b[0m\n\u001b[1;32m    361\u001b[0m         raise ValueError(\"time data %r does not match format %r\" %\n\u001b[0;32m--> 362\u001b[0;31m                          (data_string, format))\n\u001b[0m\u001b[1;32m    363\u001b[0m     \u001b[0;32mif\u001b[0m \u001b[0mlen\u001b[0m\u001b[0;34m(\u001b[0m\u001b[0mdata_string\u001b[0m\u001b[0;34m)\u001b[0m \u001b[0;34m!=\u001b[0m \u001b[0mfound\u001b[0m\u001b[0;34m.\u001b[0m\u001b[0mend\u001b[0m\u001b[0;34m(\u001b[0m\u001b[0;34m)\u001b[0m\u001b[0;34m:\u001b[0m\u001b[0;34m\u001b[0m\u001b[0m\n\u001b[1;32m    364\u001b[0m         raise ValueError(\"unconverted data remains: %s\" %\n",
            "\u001b[0;31mValueError\u001b[0m: time data '02-26-02' does not match format '%d/%m/%Y'"
          ]
        }
      ],
      "execution_count": 10,
      "metadata": {
        "slideshow": {
          "slide_type": "subslide"
        }
      }
    },
    {
      "cell_type": "markdown",
      "source": [
        "# `urllib`\n",
        "\n",
        "`urllib` is a standard module for accessing data over the internet. There are methods for retriving data as well as building urls and encoding query parameters."
      ],
      "metadata": {
        "slideshow": {
          "slide_type": "slide"
        }
      }
    },
    {
      "cell_type": "markdown",
      "source": [
        "There are third-party libraries which I would say are far superior in terms of usability but it's good to know about what comes with Python."
      ],
      "metadata": {
        "slideshow": {
          "slide_type": "notes"
        }
      }
    },
    {
      "cell_type": "code",
      "source": [
        "# %load '../code/github.py'\n",
        "import json\n",
        "import urllib\n",
        "import urllib.error\n",
        "import urllib.request\n",
        "\n",
        "search_url = 'https://api.github.com/search/repositories'\n",
        "params = urllib.parse.urlencode({\n",
        "    'q': 'language:python',\n",
        "    'sort': 'stars',\n",
        "    'order': 'desc',\n",
        "    'per_page': 3,\n",
        "})\n",
        "url = '%s?%s' % (search_url, params)\n",
        "try:\n",
        "    response = urllib.request.urlopen(url, timeout=10)\n",
        "except urllib.error.HTTPError as e:\n",
        "    print('HTTPError getting Github data: %s' % e)\n",
        "    print(e.headers)\n",
        "except urllib.error.URLError as e:\n",
        "    print('URLError getting Gitub data: %s' % e)\n",
        "else:\n",
        "    content = response.read()\n",
        "    data = json.loads(content)\n",
        "    for repository in data['items']:\n",
        "        print('{full_name}: \\u2605 {stargazers_count}'.format(**repository))\n"
      ],
      "outputs": [
        {
          "output_type": "stream",
          "name": "stdout",
          "text": [
            "vinta/awesome-python: ★ 48457\n",
            "rg3/youtube-dl: ★ 35917\n",
            "toddmotto/public-apis: ★ 35557\n"
          ]
        }
      ],
      "execution_count": 22,
      "metadata": {
        "slideshow": {
          "slide_type": "subslide"
        }
      }
    },
    {
      "cell_type": "markdown",
      "source": [
        "# `glob`\n",
        "The `glob` module is used to find filenames matching a given pattern. You can use `*` and `?` wildcard characters as well as `[]` character ranges. The rules used match the Unix shell."
      ],
      "metadata": {
        "slideshow": {
          "slide_type": "slide"
        }
      }
    },
    {
      "cell_type": "code",
      "source": [
        "import glob\n",
        "\n",
        "glob.glob('*.ipynb')"
      ],
      "outputs": [
        {
          "output_type": "execute_result",
          "execution_count": 12,
          "data": {
            "text/plain": "['MA792-002-Python-2.ipynb',\n 'MA792-002-Python-1.ipynb',\n 'MA792-002-Python-6.ipynb',\n 'MA792-002-Python-5.ipynb',\n 'MA792-002-Python-3.ipynb',\n 'MA792-002-Python-4.ipynb']"
          },
          "metadata": {}
        }
      ],
      "execution_count": 12,
      "metadata": {}
    },
    {
      "cell_type": "markdown",
      "source": [
        "# `re`\n",
        "\n",
        "Python's support for regular expressions are contained in the `r`e module. Regular expresssions (or regex) are used for matching character patterns in strings. While they are very useful and powerful they can also get quite complicated.\n",
        "\n",
        "> Some people, when confronted with a problem, think \"I know, I'll use regular expressions.\" Now they have two problems.\n",
        "\n",
        "> —Jamie Zawinski"
      ],
      "metadata": {
        "slideshow": {
          "slide_type": "slide"
        }
      }
    },
    {
      "cell_type": "code",
      "source": [
        "import re\n",
        "\n",
        "simple_phone = re.compile(r'[1-9]\\d{2}(-|\\.|\\s)\\d{4}')\n",
        "sample_text = '''\n",
        "Selling all of my old textbooks. $20 or best offer.\n",
        "\n",
        "Call 555-1234 or email books@example.com if interested.\n",
        "'''\n",
        "match = simple_phone.search(sample_text)\n",
        "match.group(0)"
      ],
      "outputs": [
        {
          "output_type": "execute_result",
          "execution_count": 13,
          "data": {
            "text/plain": "'555-1234'"
          },
          "metadata": {}
        }
      ],
      "execution_count": 13,
      "metadata": {
        "slideshow": {
          "slide_type": "subslide"
        }
      }
    },
    {
      "cell_type": "code",
      "source": [
        "match.start(), match.end()"
      ],
      "outputs": [
        {
          "output_type": "execute_result",
          "execution_count": 14,
          "data": {
            "text/plain": "(59, 67)"
          },
          "metadata": {}
        }
      ],
      "execution_count": 14,
      "metadata": {
        "slideshow": {
          "slide_type": "fragment"
        }
      }
    },
    {
      "cell_type": "markdown",
      "source": [
        "# `logging`\n",
        "\n",
        "`print` statements are great but sometimes you need something a little bit more robust. The `logging` module contains support for logging programs via console output, file output (including file rotation), socket ouput, email output via SMTP, and HTTP output.\n",
        "\n",
        "You can configure multiple loggers for a program each with different formats, outputs, and logging levels."
      ],
      "metadata": {
        "slideshow": {
          "slide_type": "slide"
        }
      }
    },
    {
      "cell_type": "code",
      "source": [
        "!cat ../code/log.conf"
      ],
      "outputs": [
        {
          "output_type": "stream",
          "name": "stdout",
          "text": [
            "[loggers]\r\n",
            "keys=root\r\n",
            "\r\n",
            "[handlers]\r\n",
            "keys=consoleHandler,fileHandler\r\n",
            "\r\n",
            "[formatters]\r\n",
            "keys=simpleFormatter\r\n",
            "\r\n",
            "[logger_root]\r\n",
            "level=DEBUG\r\n",
            "handlers=consoleHandler,fileHandler\r\n",
            "propagate=0\r\n",
            "\r\n",
            "[handler_consoleHandler]\r\n",
            "class=StreamHandler\r\n",
            "level=DEBUG\r\n",
            "formatter=simpleFormatter\r\n",
            "args=(sys.stdout,)\r\n",
            "\r\n",
            "[handler_fileHandler]\r\n",
            "class=FileHandler\r\n",
            "level=INFO\r\n",
            "formatter=simpleFormatter\r\n",
            "args=('example.log',)\r\n",
            "\r\n",
            "[formatter_simpleFormatter]\r\n",
            "format=\"%(asctime)s - %(levelname)s - %(message)s\"\r\n"
          ]
        }
      ],
      "execution_count": 16,
      "metadata": {
        "slideshow": {
          "slide_type": "subslide"
        }
      }
    },
    {
      "cell_type": "code",
      "source": [
        "import logging\n",
        "import logging.config\n",
        "\n",
        "logging.config.fileConfig(\"../code/log.conf\")\n",
        "logger = logging.getLogger() # root by default\n",
        "\n",
        "logger.debug(\"debug message\")\n",
        "logger.info(\"info message\")\n",
        "logger.warning(\"warning message\")\n",
        "logger.error(\"error message\")\n",
        "logger.critical(\"critical message\")"
      ],
      "outputs": [
        {
          "output_type": "stream",
          "name": "stdout",
          "text": [
            "\"2018-04-15 10:48:26,724 - DEBUG - debug message\"\n",
            "\"2018-04-15 10:48:26,726 - INFO - info message\"\n",
            "\"2018-04-15 10:48:26,728 - WARNING - warning message\"\n",
            "\"2018-04-15 10:48:26,729 - ERROR - error message\"\n",
            "\"2018-04-15 10:48:26,731 - CRITICAL - critical message\"\n"
          ]
        }
      ],
      "execution_count": 18,
      "metadata": {
        "slideshow": {
          "slide_type": "subslide"
        }
      }
    },
    {
      "cell_type": "markdown",
      "source": [
        "# `timeit`/`cProfile`\n",
        "\n",
        "`timeit` is a module for timing/profiling small pieces of python code.\n",
        "\n",
        "`cProfile` is a more robust module for profiling which is combined with pstats to configure the profiler output statistics. `profile` is a pure-Python module with the same API as `cProfile` introduces additional overhead compared to `cProfile` which is written as a C extension.\n",
        "\n",
        "Note there is a bug/license issue which excludes `pstats` from the default Python install on Ubuntu. You'll need to install the `python-profiler` package.\n",
        "\n",
        "See https://bugs.launchpad.net/ubuntu/+source/python-defaults/+bug/123755"
      ],
      "metadata": {
        "slideshow": {
          "slide_type": "slide"
        }
      }
    },
    {
      "cell_type": "markdown",
      "source": [
        "# `timeit` Example (timeme.py)"
      ],
      "metadata": {
        "slideshow": {
          "slide_type": "slide"
        }
      }
    },
    {
      "cell_type": "markdown",
      "source": [
        "# `profile` Example (profileme.py)"
      ],
      "metadata": {
        "slideshow": {
          "slide_type": "slide"
        }
      }
    },
    {
      "cell_type": "markdown",
      "source": [
        "# `unittest`\n",
        "\n",
        "The `unittest` module is a testing framework based on Kent Beck's Smalltalk testing framework. This same style of testing framework, called xUnit, has been written in most every language."
      ],
      "metadata": {
        "slideshow": {
          "slide_type": "slide"
        }
      }
    },
    {
      "cell_type": "markdown",
      "source": [
        "# Testing Example - Program (program.py)\n",
        "\n",
        "Sample program with some known flaws"
      ],
      "metadata": {
        "slideshow": {
          "slide_type": "slide"
        }
      }
    },
    {
      "cell_type": "markdown",
      "source": [
        "# Testing Example (test_program.py)\n",
        "\n",
        "Test suite to expose those flaws"
      ],
      "metadata": {
        "slideshow": {
          "slide_type": "slide"
        }
      }
    },
    {
      "cell_type": "markdown",
      "source": [
        "Because of the `__main__` block we can execute the file to run the tests.\n",
        "\n",
        "We can also use `python -m unittest test_program` or `python -m unittest discover`"
      ],
      "metadata": {
        "slideshow": {
          "slide_type": "notes"
        }
      }
    },
    {
      "cell_type": "markdown",
      "source": [
        "# There are More Modules\n",
        "\n",
        "Be sure to check the documenation on the Python website at http://docs.python.org/library/"
      ],
      "metadata": {
        "slideshow": {
          "slide_type": "slide"
        }
      }
    },
    {
      "cell_type": "markdown",
      "source": [
        "Original Notebook by [Mark Lavin](https://github.com/mlavin/lecture-notes)"
      ],
      "metadata": {
        "slideshow": {
          "slide_type": "slide"
        }
      }
    }
  ],
  "metadata": {
    "celltoolbar": "Slideshow",
    "kernelspec": {
      "display_name": "Python 3",
      "language": "python",
      "name": "python3"
    },
    "language_info": {
      "codemirror_mode": {
        "name": "ipython",
        "version": 3
      },
      "file_extension": ".py",
      "mimetype": "text/x-python",
      "name": "python",
      "nbconvert_exporter": "python",
      "pygments_lexer": "ipython3",
      "version": "3.6.4"
    },
    "nteract": {
      "version": "0.24.1"
    }
  },
  "nbformat": 4,
  "nbformat_minor": 2
}