{
 "cells": [
  {
   "cell_type": "markdown",
   "metadata": {},
   "source": [
    "# Introduction to Python\n",
    "\n",
    "> These documents provide a relatively brief overview of the main features of Python. They are intended as a crash course for students that already have some idea of how to program in another language. Not every aspect of Python is covered and for the most part the contents simply provides lists of what can be done in this language with some brief examples. "
   ]
  },
  {
   "cell_type": "markdown",
   "metadata": {},
   "source": [
    "## Introduction\n",
    "\n",
    "Python is a modern, robust, high level programming language. It is very easy to pick up even if you are completely new to programming. \n",
    "\n",
    "Python, similar to other languages like matlab or R, is interpreted hence runs slowly compared to C++, Fortran or Java. However writing programs in Python is very quick. Python has a very large collection of libraries for everything from scientific computing to web services. It caters for object oriented and functional programming with module system that allows large and complex applications to be developed in Python. \n",
    "\n",
    "These lectures are using jupyter notebooks which mix Python code with documentation. The python notebooks can be run on a webserver or stand-alone on a computer.\n",
    "\n",
    "To give an indication of what Python code looks like, here is a simple bit of code that defines a set $N=\\{1,3,4,5,7\\}$ and calculates the sum of the squared elements of this set: $\\sum_{i\\in N} i^2=100$"
   ]
  },
  {
   "cell_type": "code",
   "execution_count": 2,
   "metadata": {},
   "outputs": [
    {
     "name": "stdout",
     "output_type": "stream",
     "text": [
      "The sum of ∑_i∈N i*i = 164\n"
     ]
    }
   ],
   "source": [
    "N={1,3,4,5,7,8}\n",
    "print('The sum of ∑_i∈N i*i =',sum( i**2 for i in N ) )"
   ]
  },
  {
   "cell_type": "markdown",
   "metadata": {},
   "source": [
    "## Contents\n",
    "\n",
    "This course is broken up into a number of notebooks (chapters).\n",
    "\n",
    "* [Types](types.ipynb) Basic data types and operations (numbers, strings) \n",
    "* [Strings](strings.ipynb) String manipulation \n",
    "* [Dictionaries](dictionaries.ipynb) Data structures: Dictionaries\n",
    "* [Lists](lists.ipynb) Data structures: Lists and Tuples\n",
    "* [Conditionals](conditionals.ipynb) Conditionals & Loops: if, for, while, try statements\n",
    "* [Functions](functions.ipynb) Functions\n",
    "* [classes](classes.ipynb) Classes and basic object oriented programming\n",
    "\n",
    "This is a tutorial style introduction to Python. For a quick reminder / summary of Python syntax the following [Quick Reference Card](http://www.cs.put.poznan.pl/csobaniec/software/python/py-qrc.html) may be useful. A longer and more detailed tutorial style introduction to python is available from the python site at: https://docs.python.org/3/tutorial/\n"
   ]
  },
  {
   "cell_type": "markdown",
   "metadata": {},
   "source": [
    "## Installation\n",
    "\n",
    "Python runs on windows, linux, mac and other environments. There are many python distributions available. The recommended way to install Python is to use your platforms package manager. Make sure you get at least Python *3.6* version, not 2.7."
   ]
  },
  {
   "cell_type": "markdown",
   "metadata": {},
   "source": [
    "## How to learn from this resource?\n",
    "\n",
    "Download all the  notebooks from Canvas or https://github.com/tjbell/web3200.git\n",
    "\n",
    "## Using Notebooks\n",
    "Notebooks contain a mixture of documentation and code cells. Use the menus or buttons at the top of the notebook to run each cell. To get you started:\n",
    "\n",
    "* When creating new notebooks make sure to select the Python3 kernel (the server also allows you to create Matlab, Julia or R notebooks), and _rename the notebook_ to something meaningful using the `File->Rename...` menu option.\n",
    "* Documentation is written in markdown, a form of plain text with some basic formatting options (e.g. using `__text__` to make text bold, or `$latex$` to include mathematical formulas in latex format). For more information see the [Jupyter Markdown](https://jupyter-notebook.readthedocs.io/en/stable/examples/Notebook/Working%20With%20Markdown%20Cells.html) documentation or look at the _Help->Markdown_ entry in the menu above\n",
    "* Code cells contain Python code. You can execute just one cell or the whole notbook. <br>\n",
    "  **WARNING:** it is possible to get yourself very confused by out-of-order execution of cells.  If you you are getting very unexpected results after some time of incremental editing & execution of cells, try using `Kernel -> Restart & Run All` to restart the python interpreter and run all cells. This will ensure the interpreter is running exactly what you see in front of you in the right order, rather than remembering things from an earlier attempt.\n",
    "* You can use the `+` button or `Insert` menu to add new cells anywhere. You can easily add additional cells to try things out as you read through this tutorial. A cell simply is the smallest collection of code that you can execute individually within the notebook.\n",
    "* When you are finished use the `File -> Close & Halt` menu (or the `Shutdown` button in the `Running` tab of the Jupyter file browser) to stop the notebook running. By defaults notebooks will continue running even when you log off and close your web browser. This can be useful if you want to continue where you left off, but occasionally you need to do a cleanup to close some of these.\n",
    "  \n"
   ]
  },
  {
   "cell_type": "markdown",
   "metadata": {},
   "source": [
    "## License\n",
    "This work is licensed under the Creative Commons Attribution 3.0 Unported License. To view a copy of this license, visit http://creativecommons.org/licenses/by/3.0/\n",
    "\n",
    "The original version was written by Rajath Kumar and is available at https://github.com/rajathkumarmp/Python-Lectures.\n With other notes that have been significantly rewritten and updated for Python 3 and amended for use in Monash University mathematics courses by [Andreas Ernst](https://research.monash.edu/en/persons/andreas-ernst) \n",
    "</i></font></small>"
   ]
  },
  {
   "cell_type": "code",
   "execution_count": null,
   "metadata": {},
   "outputs": [],
   "source": []
  }
 ],
 "metadata": {
  "kernelspec": {
   "display_name": "Python 3",
   "language": "python",
   "name": "python3"
  },
  "language_info": {
   "codemirror_mode": {
    "name": "ipython",
    "version": 3
   },
   "file_extension": ".py",
   "mimetype": "text/x-python",
   "name": "python",
   "nbconvert_exporter": "python",
   "pygments_lexer": "ipython3",
   "version": "3.6.8"
  }
 },
 "nbformat": 4,
 "nbformat_minor": 2
}
