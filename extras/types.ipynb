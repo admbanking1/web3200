{
  "cells": [
    {
      "cell_type": "markdown",
      "source": [
        "# Getting started\n",
        "\n",
        "Python can be used like a calculator. Simply type in expressions to get them evaluated.\n",
        "\n",
        "## Basic syntax for statements \n",
        "The basic rules for writing simple statments and expressions in Python are:\n",
        "* No spaces or tab characters allowed at the start of a statement: Indentation plays a special role in Python (see the section on control statements). For now simply ensure that all statements start at the beginning of the line.\n",
        "* The '#' character indicates that the rest of the line is a comment\n",
        "* Statements finish at the end of the line:\n",
        "  * Except when there is an open bracket or paranthesis:\n",
        "```python\n",
        "1+2\n",
        "+3  #illegal continuation of the sum\n",
        "(1+2\n",
        "             + 3) # perfectly OK even with spaces\n",
        "```\n",
        "  * A single backslash at the end of the line can also be used to indicate that a statement is still incomplete  \n",
        "```python\n",
        "1 + \\\n",
        "   2 + 3 # this is also OK\n",
        "```\n",
        "The jupyter notebook system for writting Python intersperses text (like this) with Python statements. Try typing something into the cell (box) below and press the 'Run' button above to execute it. We will discuss operators that can be used in such operations further below, but for numbers these are mostly fairly obvious."
      ],
      "metadata": {}
    },
    {
      "cell_type": "code",
      "source": [
        "1 + 2 * 3"
      ],
      "outputs": [
        {
          "output_type": "execute_result",
          "execution_count": 1,
          "data": {
            "text/plain": "7"
          },
          "metadata": {}
        }
      ],
      "execution_count": 1,
      "metadata": {}
    },
    {
      "cell_type": "markdown",
      "source": [
        "Python has extensive help built in. You can execute `help()` for an overview or `help(x)` for any library, object or type `x`. Try using `help(\"topics\")` to get a list of help pages built into the help system."
      ],
      "metadata": {}
    },
    {
      "cell_type": "code",
      "source": [
        "help(\"topics\")"
      ],
      "outputs": [
        {
          "output_type": "stream",
          "name": "stdout",
          "text": [
            "\n",
            "Here is a list of available topics.  Enter any topic name to get more help.\n",
            "\n",
            "ASSERTION           DELETION            LOOPING             SHIFTING\n",
            "ASSIGNMENT          DICTIONARIES        MAPPINGMETHODS      SLICINGS\n",
            "ATTRIBUTEMETHODS    DICTIONARYLITERALS  MAPPINGS            SPECIALATTRIBUTES\n",
            "ATTRIBUTES          DYNAMICFEATURES     METHODS             SPECIALIDENTIFIERS\n",
            "AUGMENTEDASSIGNMENT ELLIPSIS            MODULES             SPECIALMETHODS\n",
            "BASICMETHODS        EXCEPTIONS          NAMESPACES          STRINGMETHODS\n",
            "BINARY              EXECUTION           NONE                STRINGS\n",
            "BITWISE             EXPRESSIONS         NUMBERMETHODS       SUBSCRIPTS\n",
            "BOOLEAN             FLOAT               NUMBERS             TRACEBACKS\n",
            "CALLABLEMETHODS     FORMATTING          OBJECTS             TRUTHVALUE\n",
            "CALLS               FRAMEOBJECTS        OPERATORS           TUPLELITERALS\n",
            "CLASSES             FRAMES              PACKAGES            TUPLES\n",
            "CODEOBJECTS         FUNCTIONS           POWER               TYPEOBJECTS\n",
            "COMPARISON          IDENTIFIERS         PRECEDENCE          TYPES\n",
            "COMPLEX             IMPORTING           PRIVATENAMES        UNARY\n",
            "CONDITIONAL         INTEGER             RETURNING           UNICODE\n",
            "CONTEXTMANAGERS     LISTLITERALS        SCOPING             \n",
            "CONVERSIONS         LISTS               SEQUENCEMETHODS     \n",
            "DEBUGGING           LITERALS            SEQUENCES           \n",
            "\n"
          ]
        }
      ],
      "execution_count": 2,
      "metadata": {}
    },
    {
      "cell_type": "markdown",
      "source": [
        "## Variables & Values"
      ],
      "metadata": {}
    },
    {
      "cell_type": "markdown",
      "source": [
        "A name that is used to denote something or a value is called a variable. In python, variables can be declared and values can be assigned to it as follows,"
      ],
      "metadata": {}
    },
    {
      "cell_type": "code",
      "source": [
        "x = 2          # anything after a '#' is a comment\n",
        "y = 5\n",
        "xy = 'Hey'\n",
        "print(x+y, xy) # not really necessary as the last value in a bit of code is displayed by default"
      ],
      "outputs": [
        {
          "output_type": "stream",
          "name": "stdout",
          "text": [
            "7 Hey\n"
          ]
        }
      ],
      "execution_count": 3,
      "metadata": {}
    },
    {
      "cell_type": "markdown",
      "source": [
        "Multiple variables can be assigned with the same value."
      ],
      "metadata": {}
    },
    {
      "cell_type": "code",
      "source": [
        "x = y = 1\n",
        "print(x,y)"
      ],
      "outputs": [
        {
          "output_type": "stream",
          "name": "stdout",
          "text": [
            "1 1\n"
          ]
        }
      ],
      "execution_count": 4,
      "metadata": {}
    },
    {
      "cell_type": "markdown",
      "source": [
        "The basic types build into Python include `float` (floating point numbers), `int` (integers), `str` (unicode character strings) and `bool` (boolean). Some examples of each:"
      ],
      "metadata": {}
    },
    {
      "cell_type": "code",
      "source": [
        "2.0           # a simple floating point number\n",
        "1e100         # a googol as floating point number\n",
        "-1234567890   # an integer\n",
        "True or False # the two possible boolean values\n",
        "'This is a string'\n",
        "\"It's another string\"\n",
        "print(\"\"\"Triple quotes (also with '''), allow strings to break over multiple lines.\n",
        "Alternatively \\n is a newline character (\\t for tab, \\\\ is a single backslash)\"\"\")"
      ],
      "outputs": [
        {
          "output_type": "stream",
          "name": "stdout",
          "text": [
            "Triple quotes (also with '''), allow strings to break over multiple lines.\n",
            "Alternatively \n",
            " is a newline character (\t for tab, \\ is a single backslash)\n"
          ]
        }
      ],
      "execution_count": 5,
      "metadata": {}
    },
    {
      "cell_type": "markdown",
      "source": [
        "Python also has complex numbers that can be written as follows. Note that the brackets are required."
      ],
      "metadata": {}
    },
    {
      "cell_type": "code",
      "source": [
        "complex(1,2)\n",
        "(1.0+2j) # the same number as above"
      ],
      "outputs": [
        {
          "output_type": "execute_result",
          "execution_count": 6,
          "data": {
            "text/plain": "(1+2j)"
          },
          "metadata": {}
        }
      ],
      "execution_count": 6,
      "metadata": {}
    },
    {
      "cell_type": "markdown",
      "source": [
        "## Operators"
      ],
      "metadata": {}
    },
    {
      "cell_type": "markdown",
      "source": [
        "### Arithmetic Operators"
      ],
      "metadata": {}
    },
    {
      "cell_type": "markdown",
      "source": [
        "| Symbol | Task Performed |\n",
        "|----|---|\n",
        "| +  | Addition |\n",
        "| -  | Subtraction |\n",
        "| /  | Division |\n",
        "| //  | Integer division |\n",
        "| %  | Modulus (remainder) |\n",
        "| *  | Multiplication |\n",
        "| **  | Exponentiation (power) |\n",
        "\n",
        "As expected these operations generally promote to the most general type of any of the numbers involved i.e. int -> float -> complex."
      ],
      "metadata": {}
    },
    {
      "cell_type": "code",
      "source": [
        "1+2.0"
      ],
      "outputs": [
        {
          "output_type": "execute_result",
          "execution_count": 7,
          "data": {
            "text/plain": "3.0"
          },
          "metadata": {}
        }
      ],
      "execution_count": 7,
      "metadata": {}
    },
    {
      "cell_type": "code",
      "source": [
        "3-1"
      ],
      "outputs": [
        {
          "output_type": "execute_result",
          "execution_count": 8,
          "data": {
            "text/plain": "2"
          },
          "metadata": {}
        }
      ],
      "execution_count": 8,
      "metadata": {}
    },
    {
      "cell_type": "code",
      "source": [
        "2 * (3+0j) * 1.0"
      ],
      "outputs": [
        {
          "output_type": "execute_result",
          "execution_count": 9,
          "data": {
            "text/plain": "(6+0j)"
          },
          "metadata": {}
        }
      ],
      "execution_count": 9,
      "metadata": {}
    },
    {
      "cell_type": "code",
      "source": [
        "3/4"
      ],
      "outputs": [
        {
          "output_type": "execute_result",
          "execution_count": 10,
          "data": {
            "text/plain": "0.75"
          },
          "metadata": {}
        }
      ],
      "execution_count": 10,
      "metadata": {}
    },
    {
      "cell_type": "markdown",
      "source": [
        "In many languages (and older versions of python) 1/2 = 0 (truncated division). In Python 3 this behaviour is captured by a separate operator that rounds down: (ie a // b$=\\lfloor \\frac{a}{b}\\rfloor$)"
      ],
      "metadata": {}
    },
    {
      "cell_type": "code",
      "source": [
        "3//4.0"
      ],
      "outputs": [
        {
          "output_type": "execute_result",
          "execution_count": 11,
          "data": {
            "text/plain": "0.0"
          },
          "metadata": {}
        }
      ],
      "execution_count": 11,
      "metadata": {}
    },
    {
      "cell_type": "code",
      "source": [
        "15%10"
      ],
      "outputs": [
        {
          "output_type": "execute_result",
          "execution_count": 12,
          "data": {
            "text/plain": "5"
          },
          "metadata": {}
        }
      ],
      "execution_count": 12,
      "metadata": {}
    },
    {
      "cell_type": "markdown",
      "source": [
        "Python natively allows (nearly) infinite length integers while floating point numbers are double precision numbers:"
      ],
      "metadata": {}
    },
    {
      "cell_type": "code",
      "source": [
        "11**300"
      ],
      "outputs": [
        {
          "output_type": "execute_result",
          "execution_count": 13,
          "data": {
            "text/plain": "2617010996188399907017032528972038342491649416953000260240805955827972056685382434497090341496787032585738884786745286700473999847280664191731008874811751310888591786111994678208920175143911761181424495660877950654145066969036252669735483098936884016471326487403792787648506879212630637101259246005701084327338001"
          },
          "metadata": {}
        }
      ],
      "execution_count": 13,
      "metadata": {}
    },
    {
      "cell_type": "code",
      "source": [
        "11.0**300"
      ],
      "outputs": [
        {
          "output_type": "error",
          "ename": "OverflowError",
          "evalue": "(34, 'Numerical result out of range')",
          "traceback": [
            "\u001b[0;31m---------------------------------------------------------------------------\u001b[0m",
            "\u001b[0;31mOverflowError\u001b[0m                             Traceback (most recent call last)",
            "\u001b[0;32m<ipython-input-14-b61ab01789ad>\u001b[0m in \u001b[0;36m<module>\u001b[0;34m\u001b[0m\n\u001b[0;32m----> 1\u001b[0;31m \u001b[0;36m11.0\u001b[0m\u001b[0;34m**\u001b[0m\u001b[0;36m300\u001b[0m\u001b[0;34m\u001b[0m\u001b[0;34m\u001b[0m\u001b[0m\n\u001b[0m",
            "\u001b[0;31mOverflowError\u001b[0m: (34, 'Numerical result out of range')"
          ]
        }
      ],
      "execution_count": 14,
      "metadata": {}
    },
    {
      "cell_type": "markdown",
      "source": [
        "### Relational Operators"
      ],
      "metadata": {}
    },
    {
      "cell_type": "markdown",
      "source": [
        "| Symbol | Task Performed |\n",
        "|----| :--- |\n",
        "| == | True, if it is equal |\n",
        "| !=  | True, if not equal to |\n",
        "| < | less than |\n",
        "| > | greater than |\n",
        "| <=  | less than or equal to |\n",
        "| >=  | greater than or equal to |\n",
        "\n",
        "Note the difference between `==` (equality test) and `=` (assignment)"
      ],
      "metadata": {}
    },
    {
      "cell_type": "code",
      "source": [
        "z = 2\n",
        "z == 2"
      ],
      "outputs": [
        {
          "output_type": "execute_result",
          "execution_count": 15,
          "data": {
            "text/plain": "True"
          },
          "metadata": {}
        }
      ],
      "execution_count": 15,
      "metadata": {}
    },
    {
      "cell_type": "code",
      "source": [
        "z > 2"
      ],
      "outputs": [
        {
          "output_type": "execute_result",
          "execution_count": 16,
          "data": {
            "text/plain": "False"
          },
          "metadata": {}
        }
      ],
      "execution_count": 16,
      "metadata": {}
    },
    {
      "cell_type": "markdown",
      "source": [
        "Comparisons can also be chained in the mathematically obvious way. The following will work as expected in Python (but not in other languages like C/C++):"
      ],
      "metadata": {}
    },
    {
      "cell_type": "code",
      "source": [
        "0.5 < z <= 1"
      ],
      "outputs": [
        {
          "output_type": "execute_result",
          "execution_count": 17,
          "data": {
            "text/plain": "False"
          },
          "metadata": {}
        }
      ],
      "execution_count": 17,
      "metadata": {}
    },
    {
      "cell_type": "markdown",
      "source": [
        "### Boolean and Bitwise Operators"
      ],
      "metadata": {}
    },
    {
      "cell_type": "markdown",
      "source": [
        "|Operator|Meaning | \\| | Symbol | Task Performed |\n",
        "|----|--- | - |----|---|\n",
        "|`and`| Logical and | \\| | &  | Bitwise And |\n",
        "|`or` | Logical or | \\| | $\\mid$  | Bitwise OR |\n",
        "|`not` | Not | \\| | ~  | Negate |\n",
        "| &nbsp;  |&nbsp;  |  \\| |  ^  | Exclusive or |\n",
        "| &nbsp;|&nbsp; | \\| |  >>  | Right shift |\n",
        "| &nbsp;| &nbsp;| \\| |  <<  | Left shift |\n"
      ],
      "metadata": {}
    },
    {
      "cell_type": "code",
      "source": [
        "a = 2 #binary: 10\n",
        "b = 3 #binary: 11\n",
        "print('a & b =',a & b,\"=\",bin(a&b))\n",
        "print('a | b =',a | b,\"=\",bin(a|b))\n",
        "print('a ^ b =',a ^ b,\"=\",bin(a^b))\n",
        "print('b << a =',b<<a,\"=\",bin(b<<a))"
      ],
      "outputs": [
        {
          "output_type": "stream",
          "name": "stdout",
          "text": [
            "a & b = 2 = 0b10\n",
            "a | b = 3 = 0b11\n",
            "a ^ b = 1 = 0b1\n",
            "b << a = 12 = 0b1100\n"
          ]
        }
      ],
      "execution_count": 18,
      "metadata": {}
    },
    {
      "cell_type": "code",
      "source": [
        "print( not (True and False), \"==\", not True or not False)"
      ],
      "outputs": [
        {
          "output_type": "stream",
          "name": "stdout",
          "text": [
            "True == True\n"
          ]
        }
      ],
      "execution_count": 19,
      "metadata": {}
    },
    {
      "cell_type": "markdown",
      "source": [
        "### Assignment operators\n",
        "\n",
        "The binary operators can be combined with assignment to modify a variable value.\n",
        "For example:"
      ],
      "metadata": {}
    },
    {
      "cell_type": "code",
      "source": [
        "x = 1\n",
        "x += 2 # add 2 to x\n",
        "print(\"x is\",x)\n",
        "x <<= 2 # left shift by 2 (equivalent to x *= 4)\n",
        "print('x is',x)\n",
        "x **= 2 # x := x^2\n",
        "print('x is',x)"
      ],
      "outputs": [
        {
          "output_type": "stream",
          "name": "stdout",
          "text": [
            "x is 3\n",
            "x is 12\n",
            "x is 144\n"
          ]
        }
      ],
      "execution_count": 20,
      "metadata": {}
    },
    {
      "cell_type": "markdown",
      "source": [
        "# Built-in Functions"
      ],
      "metadata": {}
    },
    {
      "cell_type": "markdown",
      "source": [
        "Python comes with a wide range of functions. However many of these are part of stanard libraries like the `math` library rather than built-in."
      ],
      "metadata": {}
    },
    {
      "cell_type": "markdown",
      "source": [
        "## Converting values\n",
        "\n",
        "Conversion from hexadecimal to decimal is done by adding prefix **0x** to the hexadecimal value or vice versa by using built in `hex( )`, Octal to decimal by adding prefix **0** to the octal value or vice versa by using built in function `oct( )`."
      ],
      "metadata": {}
    },
    {
      "cell_type": "code",
      "source": [
        "hex(171) # hexadecmial value as string"
      ],
      "outputs": [
        {
          "output_type": "execute_result",
          "execution_count": 21,
          "data": {
            "text/plain": "'0xab'"
          },
          "metadata": {}
        }
      ],
      "execution_count": 21,
      "metadata": {}
    },
    {
      "cell_type": "code",
      "source": [
        "0xAB"
      ],
      "outputs": [
        {
          "output_type": "execute_result",
          "execution_count": 22,
          "data": {
            "text/plain": "171"
          },
          "metadata": {}
        }
      ],
      "execution_count": 22,
      "metadata": {}
    },
    {
      "cell_type": "markdown",
      "source": [
        "`int( )` converts a number to an integer. This can be a single floating point number, integer or a string. For strings the base can optionally be specified:"
      ],
      "metadata": {}
    },
    {
      "cell_type": "code",
      "source": [
        "print(int(7.7), int('111',2),int('7'))"
      ],
      "outputs": [
        {
          "output_type": "stream",
          "name": "stdout",
          "text": [
            "7 7 7\n"
          ]
        }
      ],
      "execution_count": 23,
      "metadata": {}
    },
    {
      "cell_type": "markdown",
      "source": [
        " Similarly, the function `str( )` can be used to convert almost anything to a string"
      ],
      "metadata": {}
    },
    {
      "cell_type": "code",
      "source": [
        "print(str(True),str(1.2345678),str(-2))"
      ],
      "outputs": [
        {
          "output_type": "stream",
          "name": "stdout",
          "text": [
            "True 1.2345678 -2\n"
          ]
        }
      ],
      "execution_count": 24,
      "metadata": {}
    },
    {
      "cell_type": "markdown",
      "source": [
        "## Mathematical functions\n",
        "Mathematical functions include the usual suspects like logarithms, trigonometric fuctions, the constant $\\pi$ and so on."
      ],
      "metadata": {}
    },
    {
      "cell_type": "code",
      "source": [
        "import math\n",
        "math.sin(math.pi/2)\n",
        "from math import * # avoid having to put a math. in front of every mathematical function\n",
        "sin(pi/2) # equivalent to the statement above"
      ],
      "outputs": [
        {
          "output_type": "execute_result",
          "execution_count": 25,
          "data": {
            "text/plain": "1.0"
          },
          "metadata": {}
        }
      ],
      "execution_count": 25,
      "metadata": {}
    },
    {
      "cell_type": "markdown",
      "source": [
        "## Simplifying Arithmetic Operations"
      ],
      "metadata": {}
    },
    {
      "cell_type": "markdown",
      "source": [
        "`round( )` function rounds the input value to a specified number of places or to the nearest integer. "
      ],
      "metadata": {}
    },
    {
      "cell_type": "code",
      "source": [
        "print( round(5.6231) )\n",
        "print( round(4.55892, 2) )"
      ],
      "outputs": [
        {
          "output_type": "stream",
          "name": "stdout",
          "text": [
            "6\n",
            "4.56\n"
          ]
        }
      ],
      "execution_count": 26,
      "metadata": {
        "scrolled": false
      }
    },
    {
      "cell_type": "markdown",
      "source": [
        "`abs( )` provides the absolute value of any number (including the magnitude of a complex number)."
      ],
      "metadata": {}
    },
    {
      "cell_type": "code",
      "source": [
        "c =complex('5+2j')\n",
        "print(\"|5+2i| =\", abs(c) , \"\\t |-5| =\", abs(-5) )"
      ],
      "outputs": [
        {
          "output_type": "stream",
          "name": "stdout",
          "text": [
            "|5+2i| = 5.385164807134504 \t |-5| = 5\n"
          ]
        }
      ],
      "execution_count": 27,
      "metadata": {}
    },
    {
      "cell_type": "markdown",
      "source": [
        "`divmod(x,y)` outputs the quotient and the remainder in a tuple (you will be learning about tuples in the further chapters) in the format (quotient, remainder). "
      ],
      "metadata": {}
    },
    {
      "cell_type": "code",
      "source": [
        "divmod(9,2)"
      ],
      "outputs": [
        {
          "output_type": "execute_result",
          "execution_count": 28,
          "data": {
            "text/plain": "(4, 1)"
          },
          "metadata": {}
        }
      ],
      "execution_count": 28,
      "metadata": {}
    },
    {
      "cell_type": "markdown",
      "source": [
        "## Accepting User Inputs"
      ],
      "metadata": {}
    },
    {
      "cell_type": "markdown",
      "source": [
        "`input(prompt)`,  prompts for and returns input as a string. A useful function to use in conjunction with this is `eval()` which takes a string and evaluates it as a python expression.\n",
        "\n",
        "*Note:* In notebooks it is often easier just to modify the code than to prompt for input."
      ],
      "metadata": {}
    },
    {
      "cell_type": "code",
      "source": [
        "abc =  input(\"abc = \")\n",
        "abcValue=eval(abc)\n",
        "print(abc,'=',abcValue)"
      ],
      "outputs": [
        {
          "output_type": "stream",
          "name": "stdout",
          "text": [
            "abc = 2 + 3*4\n",
            "2 + 3*4 = 14\n"
          ]
        }
      ],
      "execution_count": 30,
      "metadata": {}
    }
  ],
  "metadata": {
    "kernelspec": {
      "display_name": "Python 3",
      "language": "python",
      "name": "python3"
    },
    "language_info": {
      "codemirror_mode": {
        "name": "ipython",
        "version": 3
      },
      "file_extension": ".py",
      "mimetype": "text/x-python",
      "name": "python",
      "nbconvert_exporter": "python",
      "pygments_lexer": "ipython3",
      "version": "3.6.9"
    },
    "nteract": {
      "version": "0.24.1"
    }
  },
  "nbformat": 4,
  "nbformat_minor": 1
}